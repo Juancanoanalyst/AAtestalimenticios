{
 "cells": [
  {
   "cell_type": "markdown",
   "metadata": {},
   "source": [
    "# TEST AA PRODUCTOS ALIMENTICIOS"
   ]
  },
  {
   "cell_type": "markdown",
   "metadata": {},
   "source": [
    "## Inspeccion inicial"
   ]
  },
  {
   "cell_type": "markdown",
   "metadata": {},
   "source": [
    "### Inicializar librerias"
   ]
  },
  {
   "cell_type": "code",
   "execution_count": 57,
   "metadata": {
    "trusted": true
   },
   "outputs": [],
   "source": [
    "import pandas as pd #dataframes\n",
    "from matplotlib import pyplot as plt\n",
    "import seaborn as sns\n",
    "from scipy import stats as st\n",
    "import numpy as np"
   ]
  },
  {
   "cell_type": "markdown",
   "metadata": {},
   "source": [
    "### Cargar archivos"
   ]
  },
  {
   "cell_type": "code",
   "execution_count": 58,
   "metadata": {
    "trusted": true
   },
   "outputs": [],
   "source": [
    "df = pd.read_csv(\"datasets/logs_exp_us.csv\", sep='\\t')"
   ]
  },
  {
   "cell_type": "code",
   "execution_count": 59,
   "metadata": {
    "trusted": true
   },
   "outputs": [
    {
     "data": {
      "text/html": [
       "<div>\n",
       "<style scoped>\n",
       "    .dataframe tbody tr th:only-of-type {\n",
       "        vertical-align: middle;\n",
       "    }\n",
       "\n",
       "    .dataframe tbody tr th {\n",
       "        vertical-align: top;\n",
       "    }\n",
       "\n",
       "    .dataframe thead th {\n",
       "        text-align: right;\n",
       "    }\n",
       "</style>\n",
       "<table border=\"1\" class=\"dataframe\">\n",
       "  <thead>\n",
       "    <tr style=\"text-align: right;\">\n",
       "      <th></th>\n",
       "      <th>EventName</th>\n",
       "      <th>DeviceIDHash</th>\n",
       "      <th>EventTimestamp</th>\n",
       "      <th>ExpId</th>\n",
       "    </tr>\n",
       "  </thead>\n",
       "  <tbody>\n",
       "    <tr>\n",
       "      <th>0</th>\n",
       "      <td>MainScreenAppear</td>\n",
       "      <td>4575588528974610257</td>\n",
       "      <td>1564029816</td>\n",
       "      <td>246</td>\n",
       "    </tr>\n",
       "    <tr>\n",
       "      <th>1</th>\n",
       "      <td>MainScreenAppear</td>\n",
       "      <td>7416695313311560658</td>\n",
       "      <td>1564053102</td>\n",
       "      <td>246</td>\n",
       "    </tr>\n",
       "    <tr>\n",
       "      <th>2</th>\n",
       "      <td>PaymentScreenSuccessful</td>\n",
       "      <td>3518123091307005509</td>\n",
       "      <td>1564054127</td>\n",
       "      <td>248</td>\n",
       "    </tr>\n",
       "    <tr>\n",
       "      <th>3</th>\n",
       "      <td>CartScreenAppear</td>\n",
       "      <td>3518123091307005509</td>\n",
       "      <td>1564054127</td>\n",
       "      <td>248</td>\n",
       "    </tr>\n",
       "    <tr>\n",
       "      <th>4</th>\n",
       "      <td>PaymentScreenSuccessful</td>\n",
       "      <td>6217807653094995999</td>\n",
       "      <td>1564055322</td>\n",
       "      <td>248</td>\n",
       "    </tr>\n",
       "  </tbody>\n",
       "</table>\n",
       "</div>"
      ],
      "text/plain": [
       "                 EventName         DeviceIDHash  EventTimestamp  ExpId\n",
       "0         MainScreenAppear  4575588528974610257      1564029816    246\n",
       "1         MainScreenAppear  7416695313311560658      1564053102    246\n",
       "2  PaymentScreenSuccessful  3518123091307005509      1564054127    248\n",
       "3         CartScreenAppear  3518123091307005509      1564054127    248\n",
       "4  PaymentScreenSuccessful  6217807653094995999      1564055322    248"
      ]
     },
     "execution_count": 59,
     "metadata": {},
     "output_type": "execute_result"
    }
   ],
   "source": [
    "df.head()"
   ]
  },
  {
   "cell_type": "code",
   "execution_count": 60,
   "metadata": {
    "trusted": true
   },
   "outputs": [
    {
     "name": "stdout",
     "output_type": "stream",
     "text": [
      "<class 'pandas.core.frame.DataFrame'>\n",
      "RangeIndex: 244126 entries, 0 to 244125\n",
      "Data columns (total 4 columns):\n",
      " #   Column          Non-Null Count   Dtype \n",
      "---  ------          --------------   ----- \n",
      " 0   EventName       244126 non-null  object\n",
      " 1   DeviceIDHash    244126 non-null  int64 \n",
      " 2   EventTimestamp  244126 non-null  int64 \n",
      " 3   ExpId           244126 non-null  int64 \n",
      "dtypes: int64(3), object(1)\n",
      "memory usage: 7.5+ MB\n"
     ]
    }
   ],
   "source": [
    "df.info()"
   ]
  },
  {
   "cell_type": "markdown",
   "metadata": {},
   "source": [
    "Se identifica que los titulos no estan en un fromato acorde a las buenas practicas ademas de eso no hay valores nulos , se van a verificar los duplicados y se van a cambiar los Dtype de  expID a object , al igual que el de deviceidhash , en cuanto a eventtimestamp se va a pasar a formato de fecha."
   ]
  },
  {
   "cell_type": "markdown",
   "metadata": {},
   "source": [
    "## Correciones y limpieza"
   ]
  },
  {
   "cell_type": "code",
   "execution_count": 61,
   "metadata": {
    "trusted": true
   },
   "outputs": [
    {
     "data": {
      "text/html": [
       "<div>\n",
       "<style scoped>\n",
       "    .dataframe tbody tr th:only-of-type {\n",
       "        vertical-align: middle;\n",
       "    }\n",
       "\n",
       "    .dataframe tbody tr th {\n",
       "        vertical-align: top;\n",
       "    }\n",
       "\n",
       "    .dataframe thead th {\n",
       "        text-align: right;\n",
       "    }\n",
       "</style>\n",
       "<table border=\"1\" class=\"dataframe\">\n",
       "  <thead>\n",
       "    <tr style=\"text-align: right;\">\n",
       "      <th></th>\n",
       "      <th>eventname</th>\n",
       "      <th>deviceidhash</th>\n",
       "      <th>eventtimestamp</th>\n",
       "      <th>expid</th>\n",
       "    </tr>\n",
       "  </thead>\n",
       "  <tbody>\n",
       "    <tr>\n",
       "      <th>0</th>\n",
       "      <td>MainScreenAppear</td>\n",
       "      <td>4575588528974610257</td>\n",
       "      <td>1564029816</td>\n",
       "      <td>246</td>\n",
       "    </tr>\n",
       "    <tr>\n",
       "      <th>1</th>\n",
       "      <td>MainScreenAppear</td>\n",
       "      <td>7416695313311560658</td>\n",
       "      <td>1564053102</td>\n",
       "      <td>246</td>\n",
       "    </tr>\n",
       "    <tr>\n",
       "      <th>2</th>\n",
       "      <td>PaymentScreenSuccessful</td>\n",
       "      <td>3518123091307005509</td>\n",
       "      <td>1564054127</td>\n",
       "      <td>248</td>\n",
       "    </tr>\n",
       "    <tr>\n",
       "      <th>3</th>\n",
       "      <td>CartScreenAppear</td>\n",
       "      <td>3518123091307005509</td>\n",
       "      <td>1564054127</td>\n",
       "      <td>248</td>\n",
       "    </tr>\n",
       "    <tr>\n",
       "      <th>4</th>\n",
       "      <td>PaymentScreenSuccessful</td>\n",
       "      <td>6217807653094995999</td>\n",
       "      <td>1564055322</td>\n",
       "      <td>248</td>\n",
       "    </tr>\n",
       "  </tbody>\n",
       "</table>\n",
       "</div>"
      ],
      "text/plain": [
       "                 eventname         deviceidhash  eventtimestamp  expid\n",
       "0         MainScreenAppear  4575588528974610257      1564029816    246\n",
       "1         MainScreenAppear  7416695313311560658      1564053102    246\n",
       "2  PaymentScreenSuccessful  3518123091307005509      1564054127    248\n",
       "3         CartScreenAppear  3518123091307005509      1564054127    248\n",
       "4  PaymentScreenSuccessful  6217807653094995999      1564055322    248"
      ]
     },
     "execution_count": 61,
     "metadata": {},
     "output_type": "execute_result"
    }
   ],
   "source": [
    "old_columns = df.columns\n",
    "new_columns=[]\n",
    "\n",
    "for column in old_columns:\n",
    "    lower = column.lower()\n",
    "    strip =lower.strip()\n",
    "    new_columns.append(strip)\n",
    "    \n",
    "df.columns = new_columns\n",
    "\n",
    "df.head()"
   ]
  },
  {
   "cell_type": "code",
   "execution_count": 62,
   "metadata": {
    "trusted": true
   },
   "outputs": [
    {
     "data": {
      "text/html": [
       "<div>\n",
       "<style scoped>\n",
       "    .dataframe tbody tr th:only-of-type {\n",
       "        vertical-align: middle;\n",
       "    }\n",
       "\n",
       "    .dataframe tbody tr th {\n",
       "        vertical-align: top;\n",
       "    }\n",
       "\n",
       "    .dataframe thead th {\n",
       "        text-align: right;\n",
       "    }\n",
       "</style>\n",
       "<table border=\"1\" class=\"dataframe\">\n",
       "  <thead>\n",
       "    <tr style=\"text-align: right;\">\n",
       "      <th></th>\n",
       "      <th>eventname</th>\n",
       "      <th>deviceidhash</th>\n",
       "      <th>eventtimestamp</th>\n",
       "      <th>expid</th>\n",
       "    </tr>\n",
       "  </thead>\n",
       "  <tbody>\n",
       "    <tr>\n",
       "      <th>453</th>\n",
       "      <td>MainScreenAppear</td>\n",
       "      <td>5613408041324010552</td>\n",
       "      <td>1564474784</td>\n",
       "      <td>248</td>\n",
       "    </tr>\n",
       "    <tr>\n",
       "      <th>2350</th>\n",
       "      <td>CartScreenAppear</td>\n",
       "      <td>1694940645335807244</td>\n",
       "      <td>1564609899</td>\n",
       "      <td>248</td>\n",
       "    </tr>\n",
       "    <tr>\n",
       "      <th>3573</th>\n",
       "      <td>MainScreenAppear</td>\n",
       "      <td>434103746454591587</td>\n",
       "      <td>1564628377</td>\n",
       "      <td>248</td>\n",
       "    </tr>\n",
       "    <tr>\n",
       "      <th>4076</th>\n",
       "      <td>MainScreenAppear</td>\n",
       "      <td>3761373764179762633</td>\n",
       "      <td>1564631266</td>\n",
       "      <td>247</td>\n",
       "    </tr>\n",
       "    <tr>\n",
       "      <th>4803</th>\n",
       "      <td>MainScreenAppear</td>\n",
       "      <td>2835328739789306622</td>\n",
       "      <td>1564634641</td>\n",
       "      <td>248</td>\n",
       "    </tr>\n",
       "  </tbody>\n",
       "</table>\n",
       "</div>"
      ],
      "text/plain": [
       "             eventname         deviceidhash  eventtimestamp  expid\n",
       "453   MainScreenAppear  5613408041324010552      1564474784    248\n",
       "2350  CartScreenAppear  1694940645335807244      1564609899    248\n",
       "3573  MainScreenAppear   434103746454591587      1564628377    248\n",
       "4076  MainScreenAppear  3761373764179762633      1564631266    247\n",
       "4803  MainScreenAppear  2835328739789306622      1564634641    248"
      ]
     },
     "execution_count": 62,
     "metadata": {},
     "output_type": "execute_result"
    }
   ],
   "source": [
    "df[df.duplicated()].head()"
   ]
  },
  {
   "cell_type": "markdown",
   "metadata": {},
   "source": [
    "se encuentran 413 duplicados los cuales se van a eliminar."
   ]
  },
  {
   "cell_type": "code",
   "execution_count": 63,
   "metadata": {
    "trusted": true
   },
   "outputs": [
    {
     "data": {
      "text/plain": [
       "np.int64(0)"
      ]
     },
     "execution_count": 63,
     "metadata": {},
     "output_type": "execute_result"
    }
   ],
   "source": [
    "df_clean =  df.drop_duplicates().reset_index()\n",
    "df_clean.duplicated().sum()"
   ]
  },
  {
   "cell_type": "code",
   "execution_count": 64,
   "metadata": {
    "trusted": true
   },
   "outputs": [
    {
     "data": {
      "text/html": [
       "<div>\n",
       "<style scoped>\n",
       "    .dataframe tbody tr th:only-of-type {\n",
       "        vertical-align: middle;\n",
       "    }\n",
       "\n",
       "    .dataframe tbody tr th {\n",
       "        vertical-align: top;\n",
       "    }\n",
       "\n",
       "    .dataframe thead th {\n",
       "        text-align: right;\n",
       "    }\n",
       "</style>\n",
       "<table border=\"1\" class=\"dataframe\">\n",
       "  <thead>\n",
       "    <tr style=\"text-align: right;\">\n",
       "      <th></th>\n",
       "      <th>index</th>\n",
       "      <th>eventname</th>\n",
       "      <th>deviceidhash</th>\n",
       "      <th>eventtimestamp</th>\n",
       "      <th>expid</th>\n",
       "      <th>date</th>\n",
       "      <th>hour</th>\n",
       "    </tr>\n",
       "  </thead>\n",
       "  <tbody>\n",
       "    <tr>\n",
       "      <th>0</th>\n",
       "      <td>0</td>\n",
       "      <td>MainScreenAppear</td>\n",
       "      <td>4575588528974610257</td>\n",
       "      <td>2019-07-25 04:43:36</td>\n",
       "      <td>246</td>\n",
       "      <td>2019-07-25</td>\n",
       "      <td>4</td>\n",
       "    </tr>\n",
       "    <tr>\n",
       "      <th>1</th>\n",
       "      <td>1</td>\n",
       "      <td>MainScreenAppear</td>\n",
       "      <td>7416695313311560658</td>\n",
       "      <td>2019-07-25 11:11:42</td>\n",
       "      <td>246</td>\n",
       "      <td>2019-07-25</td>\n",
       "      <td>11</td>\n",
       "    </tr>\n",
       "    <tr>\n",
       "      <th>2</th>\n",
       "      <td>2</td>\n",
       "      <td>PaymentScreenSuccessful</td>\n",
       "      <td>3518123091307005509</td>\n",
       "      <td>2019-07-25 11:28:47</td>\n",
       "      <td>248</td>\n",
       "      <td>2019-07-25</td>\n",
       "      <td>11</td>\n",
       "    </tr>\n",
       "    <tr>\n",
       "      <th>3</th>\n",
       "      <td>3</td>\n",
       "      <td>CartScreenAppear</td>\n",
       "      <td>3518123091307005509</td>\n",
       "      <td>2019-07-25 11:28:47</td>\n",
       "      <td>248</td>\n",
       "      <td>2019-07-25</td>\n",
       "      <td>11</td>\n",
       "    </tr>\n",
       "    <tr>\n",
       "      <th>4</th>\n",
       "      <td>4</td>\n",
       "      <td>PaymentScreenSuccessful</td>\n",
       "      <td>6217807653094995999</td>\n",
       "      <td>2019-07-25 11:48:42</td>\n",
       "      <td>248</td>\n",
       "      <td>2019-07-25</td>\n",
       "      <td>11</td>\n",
       "    </tr>\n",
       "  </tbody>\n",
       "</table>\n",
       "</div>"
      ],
      "text/plain": [
       "   index                eventname         deviceidhash      eventtimestamp  \\\n",
       "0      0         MainScreenAppear  4575588528974610257 2019-07-25 04:43:36   \n",
       "1      1         MainScreenAppear  7416695313311560658 2019-07-25 11:11:42   \n",
       "2      2  PaymentScreenSuccessful  3518123091307005509 2019-07-25 11:28:47   \n",
       "3      3         CartScreenAppear  3518123091307005509 2019-07-25 11:28:47   \n",
       "4      4  PaymentScreenSuccessful  6217807653094995999 2019-07-25 11:48:42   \n",
       "\n",
       "   expid       date  hour  \n",
       "0    246 2019-07-25     4  \n",
       "1    246 2019-07-25    11  \n",
       "2    248 2019-07-25    11  \n",
       "3    248 2019-07-25    11  \n",
       "4    248 2019-07-25    11  "
      ]
     },
     "execution_count": 64,
     "metadata": {},
     "output_type": "execute_result"
    }
   ],
   "source": [
    "df_clean['eventtimestamp'] = pd.to_datetime(df_clean['eventtimestamp'],unit='s')\n",
    "df_clean['date'] = df_clean['eventtimestamp'].dt.date\n",
    "df_clean['hour'] = df_clean['eventtimestamp'].dt.hour\n",
    "\n",
    "df_clean['date'] = pd.to_datetime(df_clean['date'])\n",
    "\n",
    "\n",
    "df_clean.head()"
   ]
  },
  {
   "cell_type": "markdown",
   "metadata": {},
   "source": [
    "Se encuentra que la unidad original de los datos se da en segundos se procede a hacer el cambio antes de generar las nuevas columnas de fecha y hora."
   ]
  },
  {
   "cell_type": "code",
   "execution_count": 65,
   "metadata": {
    "trusted": true
   },
   "outputs": [],
   "source": [
    "df_clean['deviceidhash'] = df_clean['deviceidhash'].astype('object')\n",
    "df_clean['expid'] = df_clean['expid'].astype('object')"
   ]
  },
  {
   "cell_type": "code",
   "execution_count": 66,
   "metadata": {
    "trusted": true
   },
   "outputs": [
    {
     "name": "stdout",
     "output_type": "stream",
     "text": [
      "<class 'pandas.core.frame.DataFrame'>\n",
      "RangeIndex: 243713 entries, 0 to 243712\n",
      "Data columns (total 7 columns):\n",
      " #   Column          Non-Null Count   Dtype         \n",
      "---  ------          --------------   -----         \n",
      " 0   index           243713 non-null  int64         \n",
      " 1   eventname       243713 non-null  object        \n",
      " 2   deviceidhash    243713 non-null  object        \n",
      " 3   eventtimestamp  243713 non-null  datetime64[ns]\n",
      " 4   expid           243713 non-null  object        \n",
      " 5   date            243713 non-null  datetime64[ns]\n",
      " 6   hour            243713 non-null  int32         \n",
      "dtypes: datetime64[ns](2), int32(1), int64(1), object(3)\n",
      "memory usage: 12.1+ MB\n"
     ]
    }
   ],
   "source": [
    "df_clean.info()"
   ]
  },
  {
   "cell_type": "markdown",
   "metadata": {},
   "source": [
    "## Estudiar y comprobar los datos"
   ]
  },
  {
   "cell_type": "markdown",
   "metadata": {},
   "source": [
    "### ¿Cuántos eventos hay en los registros?"
   ]
  },
  {
   "cell_type": "code",
   "execution_count": 67,
   "metadata": {
    "trusted": true
   },
   "outputs": [
    {
     "name": "stdout",
     "output_type": "stream",
     "text": [
      " El número total de eventos registrados es de :243713\n"
     ]
    }
   ],
   "source": [
    "print(f\" El número total de eventos registrados es de :{df_clean['eventname'].count().round(2)}\")"
   ]
  },
  {
   "cell_type": "markdown",
   "metadata": {},
   "source": [
    "### ¿Cuántos usuarios hay en los registros?\n"
   ]
  },
  {
   "cell_type": "code",
   "execution_count": 68,
   "metadata": {
    "trusted": true
   },
   "outputs": [
    {
     "name": "stdout",
     "output_type": "stream",
     "text": [
      " El número de usuarios registrados es de :7551\n"
     ]
    }
   ],
   "source": [
    "print(f\" El número de usuarios registrados es de :{df_clean['deviceidhash'].nunique()}\")"
   ]
  },
  {
   "cell_type": "markdown",
   "metadata": {},
   "source": [
    "### ¿Cuál es el promedio de eventos por usuario?\n"
   ]
  },
  {
   "cell_type": "code",
   "execution_count": 69,
   "metadata": {
    "trusted": true
   },
   "outputs": [
    {
     "name": "stdout",
     "output_type": "stream",
     "text": [
      "En promedio un usuario realiza :32.0 eventos\n"
     ]
    }
   ],
   "source": [
    "eventos_usuario = df_clean.groupby('deviceidhash').agg({'eventname':'count'})\n",
    "eventos_usuario.columns=['cantidad_eventos_por_usuario']\n",
    "\n",
    "print (f\"En promedio un usuario realiza :{eventos_usuario['cantidad_eventos_por_usuario'].mean().round(0)} eventos\")"
   ]
  },
  {
   "cell_type": "markdown",
   "metadata": {},
   "source": [
    "### ¿Qué periodo de tiempo cubren los datos? Encuentra la fecha máxima y mínima. Traza un histograma por fecha y hora. "
   ]
  },
  {
   "cell_type": "code",
   "execution_count": 70,
   "metadata": {
    "trusted": true
   },
   "outputs": [
    {
     "name": "stdout",
     "output_type": "stream",
     "text": [
      " La fecha inicial es el :2019-07-25 00:00:00\n",
      " La fecha final es el :2019-08-07 00:00:00\n",
      " El tiempo de la prueba en dias es de  :13 days 00:00:00\n"
     ]
    }
   ],
   "source": [
    "print(f\" La fecha inicial es el :{df_clean['date'].min()}\")\n",
    "print(f\" La fecha final es el :{df_clean['date'].max()}\")\n",
    "print(f\" El tiempo de la prueba en dias es de  :{df_clean['date'].max()-df_clean['date'].min()}\")\n"
   ]
  },
  {
   "cell_type": "markdown",
   "metadata": {},
   "source": [
    "### Traza un histograma por fecha y hora. ¿Puedes tener seguridad de que tienes datos igualmente completos para todo el periodo"
   ]
  },
  {
   "cell_type": "code",
   "execution_count": 71,
   "metadata": {
    "trusted": true
   },
   "outputs": [
    {
     "data": {
      "image/png": "[encoded data removed]",
      "text/plain": [
       "<Figure size 640x480 with 1 Axes>"
      ]
     },
     "metadata": {},
     "output_type": "display_data"
    }
   ],
   "source": [
    "plt.hist(df_clean['date'], bins=10, color='black', alpha=0.7)\n",
    "plt.title('Histograma de eventos por fecha')\n",
    "plt.xlabel('Fecha')\n",
    "plt.ylabel('Cantidad de eventos')\n",
    "plt.xticks(rotation=45)\n",
    "plt.grid(True , alpha=0.5)\n",
    "plt.show()\n"
   ]
  },
  {
   "cell_type": "code",
   "execution_count": 72,
   "metadata": {
    "trusted": true
   },
   "outputs": [
    {
     "data": {
      "image/png": "[encoded data removed]",
      "text/plain": [
       "<Figure size 640x480 with 1 Axes>"
      ]
     },
     "metadata": {},
     "output_type": "display_data"
    }
   ],
   "source": [
    "plt.hist(df_clean['hour'], bins=10, color='black', alpha=0.7)\n",
    "plt.grid(True , alpha=0.5)\n",
    "plt.title('Histograma de eventos por hora')\n",
    "plt.xlabel('Hora')\n",
    "plt.ylabel('Cantidad de eventos')\n",
    "plt.show()"
   ]
  },
  {
   "cell_type": "markdown",
   "metadata": {},
   "source": [
    "Se encuentra que los periodos comprendidos hasta el 31 de julio del 2019 no son lo suficientemente representativos y podrian generar desviaciones mas que todo al momento de promediar datos por día por lo cual a partir de este punto se van a despreciar. En cuanto a la distribucion de las horas es normal dado que comprende los periodos en los cuales la mayoría de las personas se encuentran despiertas."
   ]
  },
  {
   "cell_type": "code",
   "execution_count": 73,
   "metadata": {
    "trusted": true
   },
   "outputs": [
    {
     "data": {
      "text/html": [
       "<div>\n",
       "<style scoped>\n",
       "    .dataframe tbody tr th:only-of-type {\n",
       "        vertical-align: middle;\n",
       "    }\n",
       "\n",
       "    .dataframe tbody tr th {\n",
       "        vertical-align: top;\n",
       "    }\n",
       "\n",
       "    .dataframe thead th {\n",
       "        text-align: right;\n",
       "    }\n",
       "</style>\n",
       "<table border=\"1\" class=\"dataframe\">\n",
       "  <thead>\n",
       "    <tr style=\"text-align: right;\">\n",
       "      <th></th>\n",
       "      <th>index</th>\n",
       "      <th>eventname</th>\n",
       "      <th>deviceidhash</th>\n",
       "      <th>eventtimestamp</th>\n",
       "      <th>expid</th>\n",
       "      <th>date</th>\n",
       "      <th>hour</th>\n",
       "    </tr>\n",
       "  </thead>\n",
       "  <tbody>\n",
       "    <tr>\n",
       "      <th>2826</th>\n",
       "      <td>2828</td>\n",
       "      <td>Tutorial</td>\n",
       "      <td>3737462046622621720</td>\n",
       "      <td>2019-08-01 00:07:28</td>\n",
       "      <td>246</td>\n",
       "      <td>2019-08-01</td>\n",
       "      <td>0</td>\n",
       "    </tr>\n",
       "    <tr>\n",
       "      <th>2827</th>\n",
       "      <td>2829</td>\n",
       "      <td>MainScreenAppear</td>\n",
       "      <td>3737462046622621720</td>\n",
       "      <td>2019-08-01 00:08:00</td>\n",
       "      <td>246</td>\n",
       "      <td>2019-08-01</td>\n",
       "      <td>0</td>\n",
       "    </tr>\n",
       "    <tr>\n",
       "      <th>2828</th>\n",
       "      <td>2830</td>\n",
       "      <td>MainScreenAppear</td>\n",
       "      <td>3737462046622621720</td>\n",
       "      <td>2019-08-01 00:08:55</td>\n",
       "      <td>246</td>\n",
       "      <td>2019-08-01</td>\n",
       "      <td>0</td>\n",
       "    </tr>\n",
       "    <tr>\n",
       "      <th>2829</th>\n",
       "      <td>2831</td>\n",
       "      <td>OffersScreenAppear</td>\n",
       "      <td>3737462046622621720</td>\n",
       "      <td>2019-08-01 00:08:58</td>\n",
       "      <td>246</td>\n",
       "      <td>2019-08-01</td>\n",
       "      <td>0</td>\n",
       "    </tr>\n",
       "    <tr>\n",
       "      <th>2830</th>\n",
       "      <td>2832</td>\n",
       "      <td>MainScreenAppear</td>\n",
       "      <td>1433840883824088890</td>\n",
       "      <td>2019-08-01 00:08:59</td>\n",
       "      <td>247</td>\n",
       "      <td>2019-08-01</td>\n",
       "      <td>0</td>\n",
       "    </tr>\n",
       "  </tbody>\n",
       "</table>\n",
       "</div>"
      ],
      "text/plain": [
       "      index           eventname         deviceidhash      eventtimestamp  \\\n",
       "2826   2828            Tutorial  3737462046622621720 2019-08-01 00:07:28   \n",
       "2827   2829    MainScreenAppear  3737462046622621720 2019-08-01 00:08:00   \n",
       "2828   2830    MainScreenAppear  3737462046622621720 2019-08-01 00:08:55   \n",
       "2829   2831  OffersScreenAppear  3737462046622621720 2019-08-01 00:08:58   \n",
       "2830   2832    MainScreenAppear  1433840883824088890 2019-08-01 00:08:59   \n",
       "\n",
       "     expid       date  hour  \n",
       "2826   246 2019-08-01     0  \n",
       "2827   246 2019-08-01     0  \n",
       "2828   246 2019-08-01     0  \n",
       "2829   246 2019-08-01     0  \n",
       "2830   247 2019-08-01     0  "
      ]
     },
     "execution_count": 73,
     "metadata": {},
     "output_type": "execute_result"
    }
   ],
   "source": [
    "\n",
    "fecha_vacia = pd.to_datetime(\"2019-07-31\")\n",
    "df_cleanf = df_clean[df_clean['date']> fecha_vacia]\n",
    "df_cleanf.head(5)\n"
   ]
  },
  {
   "cell_type": "markdown",
   "metadata": {},
   "source": [
    "Se filtra dejando en la tabla las fechas representativas posteriores a lo encontrado en el histograma."
   ]
  },
  {
   "cell_type": "markdown",
   "metadata": {},
   "source": [
    "###  ¿Qué periodo representan realmente los datos?"
   ]
  },
  {
   "cell_type": "code",
   "execution_count": 74,
   "metadata": {
    "trusted": true
   },
   "outputs": [
    {
     "name": "stdout",
     "output_type": "stream",
     "text": [
      " La fecha inicial es el :2019-08-01 00:00:00\n",
      " La fecha final es el :2019-08-07 00:00:00\n",
      " El tiempo de la prueba en dias es de  :6 days 00:00:00\n"
     ]
    }
   ],
   "source": [
    "print(f\" La fecha inicial es el :{df_cleanf['date'].min()}\")\n",
    "print(f\" La fecha final es el :{df_cleanf['date'].max()}\")\n",
    "print(f\" El tiempo de la prueba en dias es de  :{df_cleanf['date'].max()-df_cleanf['date'].min()}\")"
   ]
  },
  {
   "cell_type": "markdown",
   "metadata": {},
   "source": [
    "Se redujeron 7 días que no eran realmente representativos y si podrian generar errores en el analisis."
   ]
  },
  {
   "cell_type": "markdown",
   "metadata": {},
   "source": [
    "### ¿Perdiste muchos eventos y usuarios al excluir los datos más antiguos?"
   ]
  },
  {
   "cell_type": "code",
   "execution_count": 75,
   "metadata": {
    "trusted": true
   },
   "outputs": [
    {
     "name": "stdout",
     "output_type": "stream",
     "text": [
      " El número total de eventos registrados sin filtrar es de :243713\n",
      " El número total de eventos registrados ya filtrados es de :240887\n",
      " En total se perdieron un total de 2826 eventos\n",
      " Osea el :1.16  % de los eventos fueron descartados\n"
     ]
    }
   ],
   "source": [
    "print(f\" El número total de eventos registrados sin filtrar es de :{df_clean['eventname'].count().round(2)}\")\n",
    "print(f\" El número total de eventos registrados ya filtrados es de :{df_cleanf['eventname'].count().round(2)}\")\n",
    "print(f\" En total se perdieron un total de {df_clean['eventname'].count().round(2)-df_cleanf['eventname'].count().round(2)} eventos\")\n",
    "print(f\" Osea el :{(-(df_cleanf['eventname'].count().round(2)/df_clean['eventname'].count().round(2)-1)*100).round(2)}  % de los eventos fueron descartados\")"
   ]
  },
  {
   "cell_type": "code",
   "execution_count": 76,
   "metadata": {
    "trusted": true
   },
   "outputs": [
    {
     "name": "stdout",
     "output_type": "stream",
     "text": [
      " El número total de usuarios registrados sin filtrar es de :7551\n",
      " El número total de usuarios registrados ya filtrados es de :7534\n",
      " En total se perdieron un total de 17 usuarios\n",
      " Osea el :0.22513574361011646  % de los usuarios fueron descartados\n"
     ]
    }
   ],
   "source": [
    "print(f\" El número total de usuarios registrados sin filtrar es de :{df_clean['deviceidhash'].nunique()}\")\n",
    "print(f\" El número total de usuarios registrados ya filtrados es de :{df_cleanf['deviceidhash'].nunique()}\")\n",
    "print(f\" En total se perdieron un total de {df_clean['deviceidhash'].nunique()-df_cleanf['deviceidhash'].nunique()} usuarios\")\n",
    "print(f\" Osea el :{(-(df_cleanf['deviceidhash'].nunique()/df_clean['deviceidhash'].nunique()-1)*100)}  % de los usuarios fueron descartados\")"
   ]
  },
  {
   "cell_type": "markdown",
   "metadata": {},
   "source": [
    "### Asegúrate de tener usuarios de los tres grupos experimentales."
   ]
  },
  {
   "cell_type": "code",
   "execution_count": 77,
   "metadata": {
    "trusted": true
   },
   "outputs": [
    {
     "data": {
      "text/plain": [
       "array([246, 247, 248], dtype=object)"
      ]
     },
     "execution_count": 77,
     "metadata": {},
     "output_type": "execute_result"
    }
   ],
   "source": [
    "df_cleanf['expid'].unique() "
   ]
  },
  {
   "cell_type": "markdown",
   "metadata": {},
   "source": [
    "Efectivamente siguen los tres grupos con el dataframe ya filtrado."
   ]
  },
  {
   "cell_type": "markdown",
   "metadata": {},
   "source": [
    "## Estudiar el embudo de eventos"
   ]
  },
  {
   "cell_type": "markdown",
   "metadata": {},
   "source": [
    "### Observa qué eventos hay en los registros y su frecuencia de suceso. Ordénalos por frecuencia."
   ]
  },
  {
   "cell_type": "code",
   "execution_count": 78,
   "metadata": {
    "trusted": true
   },
   "outputs": [
    {
     "data": {
      "text/html": [
       "<div>\n",
       "<style scoped>\n",
       "    .dataframe tbody tr th:only-of-type {\n",
       "        vertical-align: middle;\n",
       "    }\n",
       "\n",
       "    .dataframe tbody tr th {\n",
       "        vertical-align: top;\n",
       "    }\n",
       "\n",
       "    .dataframe thead th {\n",
       "        text-align: right;\n",
       "    }\n",
       "</style>\n",
       "<table border=\"1\" class=\"dataframe\">\n",
       "  <thead>\n",
       "    <tr style=\"text-align: right;\">\n",
       "      <th></th>\n",
       "      <th>index</th>\n",
       "      <th>eventname</th>\n",
       "      <th>deviceidhash</th>\n",
       "      <th>eventtimestamp</th>\n",
       "      <th>expid</th>\n",
       "      <th>date</th>\n",
       "      <th>hour</th>\n",
       "    </tr>\n",
       "  </thead>\n",
       "  <tbody>\n",
       "    <tr>\n",
       "      <th>2826</th>\n",
       "      <td>2828</td>\n",
       "      <td>Tutorial</td>\n",
       "      <td>3737462046622621720</td>\n",
       "      <td>2019-08-01 00:07:28</td>\n",
       "      <td>246</td>\n",
       "      <td>2019-08-01</td>\n",
       "      <td>0</td>\n",
       "    </tr>\n",
       "    <tr>\n",
       "      <th>2827</th>\n",
       "      <td>2829</td>\n",
       "      <td>MainScreenAppear</td>\n",
       "      <td>3737462046622621720</td>\n",
       "      <td>2019-08-01 00:08:00</td>\n",
       "      <td>246</td>\n",
       "      <td>2019-08-01</td>\n",
       "      <td>0</td>\n",
       "    </tr>\n",
       "    <tr>\n",
       "      <th>2828</th>\n",
       "      <td>2830</td>\n",
       "      <td>MainScreenAppear</td>\n",
       "      <td>3737462046622621720</td>\n",
       "      <td>2019-08-01 00:08:55</td>\n",
       "      <td>246</td>\n",
       "      <td>2019-08-01</td>\n",
       "      <td>0</td>\n",
       "    </tr>\n",
       "    <tr>\n",
       "      <th>2829</th>\n",
       "      <td>2831</td>\n",
       "      <td>OffersScreenAppear</td>\n",
       "      <td>3737462046622621720</td>\n",
       "      <td>2019-08-01 00:08:58</td>\n",
       "      <td>246</td>\n",
       "      <td>2019-08-01</td>\n",
       "      <td>0</td>\n",
       "    </tr>\n",
       "    <tr>\n",
       "      <th>2830</th>\n",
       "      <td>2832</td>\n",
       "      <td>MainScreenAppear</td>\n",
       "      <td>1433840883824088890</td>\n",
       "      <td>2019-08-01 00:08:59</td>\n",
       "      <td>247</td>\n",
       "      <td>2019-08-01</td>\n",
       "      <td>0</td>\n",
       "    </tr>\n",
       "  </tbody>\n",
       "</table>\n",
       "</div>"
      ],
      "text/plain": [
       "      index           eventname         deviceidhash      eventtimestamp  \\\n",
       "2826   2828            Tutorial  3737462046622621720 2019-08-01 00:07:28   \n",
       "2827   2829    MainScreenAppear  3737462046622621720 2019-08-01 00:08:00   \n",
       "2828   2830    MainScreenAppear  3737462046622621720 2019-08-01 00:08:55   \n",
       "2829   2831  OffersScreenAppear  3737462046622621720 2019-08-01 00:08:58   \n",
       "2830   2832    MainScreenAppear  1433840883824088890 2019-08-01 00:08:59   \n",
       "\n",
       "     expid       date  hour  \n",
       "2826   246 2019-08-01     0  \n",
       "2827   246 2019-08-01     0  \n",
       "2828   246 2019-08-01     0  \n",
       "2829   246 2019-08-01     0  \n",
       "2830   247 2019-08-01     0  "
      ]
     },
     "execution_count": 78,
     "metadata": {},
     "output_type": "execute_result"
    }
   ],
   "source": [
    "df_cleanf.head(5)"
   ]
  },
  {
   "cell_type": "code",
   "execution_count": 79,
   "metadata": {
    "trusted": true
   },
   "outputs": [
    {
     "data": {
      "text/plain": [
       "eventname\n",
       "MainScreenAppear           117328\n",
       "OffersScreenAppear          46333\n",
       "CartScreenAppear            42303\n",
       "PaymentScreenSuccessful     33918\n",
       "Tutorial                     1005\n",
       "Name: eventname, dtype: int64"
      ]
     },
     "execution_count": 79,
     "metadata": {},
     "output_type": "execute_result"
    }
   ],
   "source": [
    "eventos_frecuencia2 = df_cleanf.groupby('eventname')['eventname'].count()\n",
    "eventos_frecuencia2.sort_values(ascending=False)\n"
   ]
  },
  {
   "cell_type": "markdown",
   "metadata": {},
   "source": [
    "### Encuentra la cantidad de usuarios que realizaron cada una de estas acciones. Ordena los eventos por el número de usuarios. Calcula la proporción de usuarios que realizaron la acción al menos una vez."
   ]
  },
  {
   "cell_type": "code",
   "execution_count": 80,
   "metadata": {
    "trusted": true
   },
   "outputs": [
    {
     "data": {
      "text/html": [
       "<div>\n",
       "<style scoped>\n",
       "    .dataframe tbody tr th:only-of-type {\n",
       "        vertical-align: middle;\n",
       "    }\n",
       "\n",
       "    .dataframe tbody tr th {\n",
       "        vertical-align: top;\n",
       "    }\n",
       "\n",
       "    .dataframe thead th {\n",
       "        text-align: right;\n",
       "    }\n",
       "</style>\n",
       "<table border=\"1\" class=\"dataframe\">\n",
       "  <thead>\n",
       "    <tr style=\"text-align: right;\">\n",
       "      <th></th>\n",
       "      <th>eventname</th>\n",
       "      <th>frecuencia</th>\n",
       "    </tr>\n",
       "  </thead>\n",
       "  <tbody>\n",
       "    <tr>\n",
       "      <th>1</th>\n",
       "      <td>MainScreenAppear</td>\n",
       "      <td>117328</td>\n",
       "    </tr>\n",
       "    <tr>\n",
       "      <th>2</th>\n",
       "      <td>OffersScreenAppear</td>\n",
       "      <td>46333</td>\n",
       "    </tr>\n",
       "    <tr>\n",
       "      <th>0</th>\n",
       "      <td>CartScreenAppear</td>\n",
       "      <td>42303</td>\n",
       "    </tr>\n",
       "    <tr>\n",
       "      <th>3</th>\n",
       "      <td>PaymentScreenSuccessful</td>\n",
       "      <td>33918</td>\n",
       "    </tr>\n",
       "    <tr>\n",
       "      <th>4</th>\n",
       "      <td>Tutorial</td>\n",
       "      <td>1005</td>\n",
       "    </tr>\n",
       "  </tbody>\n",
       "</table>\n",
       "</div>"
      ],
      "text/plain": [
       "                 eventname  frecuencia\n",
       "1         MainScreenAppear      117328\n",
       "2       OffersScreenAppear       46333\n",
       "0         CartScreenAppear       42303\n",
       "3  PaymentScreenSuccessful       33918\n",
       "4                 Tutorial        1005"
      ]
     },
     "execution_count": 80,
     "metadata": {},
     "output_type": "execute_result"
    }
   ],
   "source": [
    "eventos_frecuencia = df_cleanf.groupby('eventname').agg({'deviceidhash':'count'}).reset_index()\n",
    "eventos_frecuencia.columns=['eventname','frecuencia']\n",
    "eventos_frecuencia = eventos_frecuencia.sort_values('frecuencia',ascending=False)\n",
    "eventos_frecuencia"
   ]
  },
  {
   "cell_type": "code",
   "execution_count": 111,
   "metadata": {
    "trusted": true
   },
   "outputs": [
    {
     "data": {
      "image/png": "[encoded data removed]",
      "text/plain": [
       "<Figure size 1200x600 with 1 Axes>"
      ]
     },
     "metadata": {},
     "output_type": "display_data"
    }
   ],
   "source": [
    "plt.style.use(\"dark_background\")\n",
    "plt.figure(figsize=(12, 6))\n",
    "sns.barplot(x='eventname',y='frecuencia',data=eventos_frecuencia)\n",
    "plt.grid(True,alpha=0.45)"
   ]
  },
  {
   "cell_type": "markdown",
   "metadata": {},
   "source": [
    "### ¿En qué orden crees que ocurrieron las acciones? ¿Todas son parte de una sola secuencia? No es necesario tenerlas en cuenta al calcular el embudo."
   ]
  },
  {
   "cell_type": "code",
   "execution_count": 82,
   "metadata": {
    "trusted": true
   },
   "outputs": [],
   "source": [
    "sucesos = eventos_frecuencia['eventname']\n",
    "sucesos.columns=['orden','eventname']"
   ]
  },
  {
   "cell_type": "markdown",
   "metadata": {},
   "source": [
    "Este es el orden de los sucesos :\n",
    "- 1 MainScreenAppear \n",
    "- 2 OffersScreenAppear \n",
    "- 3 CartScreenAppear \n",
    "- 4 PaymentScreenSuccessful\n",
    "- 5 Tutorial"
   ]
  },
  {
   "cell_type": "markdown",
   "metadata": {},
   "source": [
    "Son una sola secuencia lo cual aún no puedo determinar es la funcion de tutorial puede que sea como preparar los productos , pero el resto tiene orden logico."
   ]
  },
  {
   "cell_type": "markdown",
   "metadata": {},
   "source": [
    "### Utiliza el embudo de eventos para encontrar la proporción de usuarios que pasan de una etapa a la siguiente. Por ejemplo, para la secuencia de eventos A → B → C, calcula la proporción de usuarios en la etapa B a la cantidad de usuarios en la etapa A y la proporción de usuarios en la etapa C a la cantidad en la etapa B."
   ]
  },
  {
   "cell_type": "code",
   "execution_count": 83,
   "metadata": {
    "trusted": true
   },
   "outputs": [
    {
     "data": {
      "text/html": [
       "<div>\n",
       "<style scoped>\n",
       "    .dataframe tbody tr th:only-of-type {\n",
       "        vertical-align: middle;\n",
       "    }\n",
       "\n",
       "    .dataframe tbody tr th {\n",
       "        vertical-align: top;\n",
       "    }\n",
       "\n",
       "    .dataframe thead th {\n",
       "        text-align: right;\n",
       "    }\n",
       "</style>\n",
       "<table border=\"1\" class=\"dataframe\">\n",
       "  <thead>\n",
       "    <tr style=\"text-align: right;\">\n",
       "      <th></th>\n",
       "      <th>eventname</th>\n",
       "      <th>frecuencia</th>\n",
       "    </tr>\n",
       "  </thead>\n",
       "  <tbody>\n",
       "    <tr>\n",
       "      <th>1</th>\n",
       "      <td>MainScreenAppear</td>\n",
       "      <td>117328</td>\n",
       "    </tr>\n",
       "    <tr>\n",
       "      <th>2</th>\n",
       "      <td>OffersScreenAppear</td>\n",
       "      <td>46333</td>\n",
       "    </tr>\n",
       "    <tr>\n",
       "      <th>0</th>\n",
       "      <td>CartScreenAppear</td>\n",
       "      <td>42303</td>\n",
       "    </tr>\n",
       "    <tr>\n",
       "      <th>3</th>\n",
       "      <td>PaymentScreenSuccessful</td>\n",
       "      <td>33918</td>\n",
       "    </tr>\n",
       "    <tr>\n",
       "      <th>4</th>\n",
       "      <td>Tutorial</td>\n",
       "      <td>1005</td>\n",
       "    </tr>\n",
       "  </tbody>\n",
       "</table>\n",
       "</div>"
      ],
      "text/plain": [
       "                 eventname  frecuencia\n",
       "1         MainScreenAppear      117328\n",
       "2       OffersScreenAppear       46333\n",
       "0         CartScreenAppear       42303\n",
       "3  PaymentScreenSuccessful       33918\n",
       "4                 Tutorial        1005"
      ]
     },
     "execution_count": 83,
     "metadata": {},
     "output_type": "execute_result"
    }
   ],
   "source": [
    "eventos_frecuencia"
   ]
  },
  {
   "cell_type": "code",
   "execution_count": 112,
   "metadata": {
    "trusted": true
   },
   "outputs": [
    {
     "data": {
      "text/html": [
       "<div>\n",
       "<style scoped>\n",
       "    .dataframe tbody tr th:only-of-type {\n",
       "        vertical-align: middle;\n",
       "    }\n",
       "\n",
       "    .dataframe tbody tr th {\n",
       "        vertical-align: top;\n",
       "    }\n",
       "\n",
       "    .dataframe thead th {\n",
       "        text-align: right;\n",
       "    }\n",
       "</style>\n",
       "<table border=\"1\" class=\"dataframe\">\n",
       "  <thead>\n",
       "    <tr style=\"text-align: right;\">\n",
       "      <th></th>\n",
       "      <th>eventname</th>\n",
       "      <th>frecuencia</th>\n",
       "      <th>conversion</th>\n",
       "      <th>conversion_siguiente_etapa</th>\n",
       "    </tr>\n",
       "  </thead>\n",
       "  <tbody>\n",
       "    <tr>\n",
       "      <th>1</th>\n",
       "      <td>MainScreenAppear</td>\n",
       "      <td>117328</td>\n",
       "      <td>100.0%</td>\n",
       "      <td>39.49%</td>\n",
       "    </tr>\n",
       "    <tr>\n",
       "      <th>2</th>\n",
       "      <td>OffersScreenAppear</td>\n",
       "      <td>46333</td>\n",
       "      <td>39.49%</td>\n",
       "      <td>91.30%</td>\n",
       "    </tr>\n",
       "    <tr>\n",
       "      <th>0</th>\n",
       "      <td>CartScreenAppear</td>\n",
       "      <td>42303</td>\n",
       "      <td>36.06%</td>\n",
       "      <td>80.18%</td>\n",
       "    </tr>\n",
       "    <tr>\n",
       "      <th>3</th>\n",
       "      <td>PaymentScreenSuccessful</td>\n",
       "      <td>33918</td>\n",
       "      <td>28.91%</td>\n",
       "      <td>2.96%</td>\n",
       "    </tr>\n",
       "    <tr>\n",
       "      <th>4</th>\n",
       "      <td>Tutorial</td>\n",
       "      <td>1005</td>\n",
       "      <td>0.86%</td>\n",
       "      <td>N/A</td>\n",
       "    </tr>\n",
       "  </tbody>\n",
       "</table>\n",
       "</div>"
      ],
      "text/plain": [
       "                 eventname  frecuencia conversion conversion_siguiente_etapa\n",
       "1         MainScreenAppear      117328     100.0%                     39.49%\n",
       "2       OffersScreenAppear       46333     39.49%                     91.30%\n",
       "0         CartScreenAppear       42303     36.06%                     80.18%\n",
       "3  PaymentScreenSuccessful       33918     28.91%                      2.96%\n",
       "4                 Tutorial        1005      0.86%                        N/A"
      ]
     },
     "execution_count": 112,
     "metadata": {},
     "output_type": "execute_result"
    }
   ],
   "source": [
    "max_frecuencia = eventos_frecuencia['frecuencia'].max()\n",
    "eventos_frecuencia['conversion'] = ((eventos_frecuencia['frecuencia'] / max_frecuencia)*100).round(2).astype(str) + '%'\n",
    "eventos_frecuencia"
   ]
  },
  {
   "cell_type": "code",
   "execution_count": 113,
   "metadata": {
    "trusted": true
   },
   "outputs": [
    {
     "data": {
      "text/html": [
       "<div>\n",
       "<style scoped>\n",
       "    .dataframe tbody tr th:only-of-type {\n",
       "        vertical-align: middle;\n",
       "    }\n",
       "\n",
       "    .dataframe tbody tr th {\n",
       "        vertical-align: top;\n",
       "    }\n",
       "\n",
       "    .dataframe thead th {\n",
       "        text-align: right;\n",
       "    }\n",
       "</style>\n",
       "<table border=\"1\" class=\"dataframe\">\n",
       "  <thead>\n",
       "    <tr style=\"text-align: right;\">\n",
       "      <th></th>\n",
       "      <th>eventname</th>\n",
       "      <th>frecuencia</th>\n",
       "      <th>conversion</th>\n",
       "      <th>conversion_siguiente_etapa</th>\n",
       "    </tr>\n",
       "  </thead>\n",
       "  <tbody>\n",
       "    <tr>\n",
       "      <th>1</th>\n",
       "      <td>MainScreenAppear</td>\n",
       "      <td>117328</td>\n",
       "      <td>100.0%</td>\n",
       "      <td>39.49%</td>\n",
       "    </tr>\n",
       "    <tr>\n",
       "      <th>2</th>\n",
       "      <td>OffersScreenAppear</td>\n",
       "      <td>46333</td>\n",
       "      <td>39.49%</td>\n",
       "      <td>91.30%</td>\n",
       "    </tr>\n",
       "    <tr>\n",
       "      <th>0</th>\n",
       "      <td>CartScreenAppear</td>\n",
       "      <td>42303</td>\n",
       "      <td>36.06%</td>\n",
       "      <td>80.18%</td>\n",
       "    </tr>\n",
       "    <tr>\n",
       "      <th>3</th>\n",
       "      <td>PaymentScreenSuccessful</td>\n",
       "      <td>33918</td>\n",
       "      <td>28.91%</td>\n",
       "      <td>2.96%</td>\n",
       "    </tr>\n",
       "    <tr>\n",
       "      <th>4</th>\n",
       "      <td>Tutorial</td>\n",
       "      <td>1005</td>\n",
       "      <td>0.86%</td>\n",
       "      <td>N/A</td>\n",
       "    </tr>\n",
       "  </tbody>\n",
       "</table>\n",
       "</div>"
      ],
      "text/plain": [
       "                 eventname  frecuencia conversion conversion_siguiente_etapa\n",
       "1         MainScreenAppear      117328     100.0%                     39.49%\n",
       "2       OffersScreenAppear       46333     39.49%                     91.30%\n",
       "0         CartScreenAppear       42303     36.06%                     80.18%\n",
       "3  PaymentScreenSuccessful       33918     28.91%                      2.96%\n",
       "4                 Tutorial        1005      0.86%                        N/A"
      ]
     },
     "execution_count": 113,
     "metadata": {},
     "output_type": "execute_result"
    }
   ],
   "source": [
    "conversion_siguiente = []\n",
    "for i in range(len(eventos_frecuencia) - 1):\n",
    "    frecuencia_actual = eventos_frecuencia['frecuencia'].iloc[i]\n",
    "    frecuencia_siguiente = eventos_frecuencia['frecuencia'].iloc[i+1]\n",
    "    if frecuencia_actual > 0:\n",
    "        conversion = (frecuencia_siguiente / frecuencia_actual) * 100\n",
    "        conversion_siguiente.append(f'{conversion:.2f}%')\n",
    "    else:\n",
    "        conversion_siguiente.append('0.00%') \n",
    "\n",
    "conversion_siguiente.append('N/A')\n",
    "\n",
    "eventos_frecuencia['conversion_siguiente_etapa'] = conversion_siguiente\n",
    "eventos_frecuencia"
   ]
  },
  {
   "cell_type": "markdown",
   "metadata": {},
   "source": [
    "Se identifica que la cantidad de clientes que pasan de la etapa 1 a la etapa 2 es de tan solo el 39.49% , en cambio una vez el cleinte ve los descuentos procede a agregar cosas al carrito en un 91.3%  y de este 91% pasan a la etapa mas importante que es la del pago un total del 80.12% lo cual es un rate muy alto , se encuentra que una vez el cliente ve los descuentos lo mas probable es que realice una compra por lo cual se recomienda que sean mas visibles el tema de las ofertas en el banner principal, o si hay la posibilidad que los clientes entren directamente a los descuentos , por ultimo se descarta del analisis los clientes que van a ver el tutorial ya que esto no es realmente valioso."
   ]
  },
  {
   "cell_type": "markdown",
   "metadata": {},
   "source": [
    "### ¿En qué etapa pierdes más usuarios?"
   ]
  },
  {
   "cell_type": "markdown",
   "metadata": {},
   "source": [
    "numericamente en la ultima etapa entre el evento 3 y 4 ya que pierdo alrededor del 97% de los usuarios pero se descarta esto ya que no tiene valor de los datos representativos , la perdida realmente importante se da entre la etapa 1 y la etapa 2 , con un 61% de perdidas de clientes aporximadamente."
   ]
  },
  {
   "cell_type": "markdown",
   "metadata": {},
   "source": [
    "### ¿Qué porcentaje de usuarios hace todo el viaje desde su primer evento hasta el pago?"
   ]
  },
  {
   "cell_type": "code",
   "execution_count": 86,
   "metadata": {
    "trusted": true
   },
   "outputs": [],
   "source": [
    "pago =  eventos_frecuencia['frecuencia'][eventos_frecuencia['eventname']=='PaymentScreenSuccessful']"
   ]
  },
  {
   "cell_type": "code",
   "execution_count": 87,
   "metadata": {
    "trusted": true
   },
   "outputs": [
    {
     "name": "stdout",
     "output_type": "stream",
     "text": [
      "3    28.91\n",
      "Name: frecuencia, dtype: float64\n"
     ]
    }
   ],
   "source": [
    "print(((pago/eventos_frecuencia['frecuencia'].max())*100).round(2))"
   ]
  },
  {
   "cell_type": "markdown",
   "metadata": {},
   "source": [
    "Solo el 28.91% de nuestros clientes realizan todo el proceso."
   ]
  },
  {
   "cell_type": "markdown",
   "metadata": {},
   "source": [
    "## Estudiar los resultados del experimento "
   ]
  },
  {
   "cell_type": "markdown",
   "metadata": {},
   "source": [
    "### ¿Cuántos usuarios hay en cada grupo?"
   ]
  },
  {
   "cell_type": "code",
   "execution_count": 119,
   "metadata": {
    "trusted": true
   },
   "outputs": [
    {
     "data": {
      "text/html": [
       "<div>\n",
       "<style scoped>\n",
       "    .dataframe tbody tr th:only-of-type {\n",
       "        vertical-align: middle;\n",
       "    }\n",
       "\n",
       "    .dataframe tbody tr th {\n",
       "        vertical-align: top;\n",
       "    }\n",
       "\n",
       "    .dataframe thead th {\n",
       "        text-align: right;\n",
       "    }\n",
       "</style>\n",
       "<table border=\"1\" class=\"dataframe\">\n",
       "  <thead>\n",
       "    <tr style=\"text-align: right;\">\n",
       "      <th></th>\n",
       "      <th>expid</th>\n",
       "      <th>deviceidhash</th>\n",
       "    </tr>\n",
       "  </thead>\n",
       "  <tbody>\n",
       "    <tr>\n",
       "      <th>0</th>\n",
       "      <td>246</td>\n",
       "      <td>2484</td>\n",
       "    </tr>\n",
       "    <tr>\n",
       "      <th>1</th>\n",
       "      <td>247</td>\n",
       "      <td>2513</td>\n",
       "    </tr>\n",
       "    <tr>\n",
       "      <th>2</th>\n",
       "      <td>248</td>\n",
       "      <td>2537</td>\n",
       "    </tr>\n",
       "  </tbody>\n",
       "</table>\n",
       "</div>"
      ],
      "text/plain": [
       "   expid  deviceidhash\n",
       "0    246          2484\n",
       "1    247          2513\n",
       "2    248          2537"
      ]
     },
     "execution_count": 119,
     "metadata": {},
     "output_type": "execute_result"
    }
   ],
   "source": [
    "user_group = df_cleanf.groupby('expid').agg({'deviceidhash':'nunique'}).reset_index()\n",
    "user_group"
   ]
  },
  {
   "cell_type": "markdown",
   "metadata": {},
   "source": [
    "hacer A/A sobre 246 y 247 que son los grupos d econtrol, puede o no haber una dif significativa , si no la hay uso alguno para hacer A/B para el 248 y alguno de los dos anteriores."
   ]
  },
  {
   "cell_type": "code",
   "execution_count": 122,
   "metadata": {
    "trusted": true
   },
   "outputs": [
    {
     "name": "stderr",
     "output_type": "stream",
     "text": [
      "/tmp/ipykernel_31224/2412661839.py:2: FutureWarning: \n",
      "\n",
      "Passing `palette` without assigning `hue` is deprecated and will be removed in v0.14.0. Assign the `x` variable to `hue` and set `legend=False` for the same effect.\n",
      "\n",
      "  sns.barplot(x=user_group['expid'], y=user_group['deviceidhash'], palette='viridis')\n"
     ]
    },
    {
     "data": {
      "image/png": "[encoded data removed]",
      "text/plain": [
       "<Figure size 1000x500 with 1 Axes>"
      ]
     },
     "metadata": {},
     "output_type": "display_data"
    }
   ],
   "source": [
    "plt.figure(figsize=(10,5))\n",
    "sns.barplot(x=user_group['expid'], y=user_group['deviceidhash'], palette='viridis')\n",
    "plt.title('Usuarios por grupo de experimento')\n",
    "plt.xlabel('Grupo de experimento')\n",
    "plt.ylabel('Cantidad de usuarios')\n",
    "plt.xticks(rotation=0)\n",
    "plt.grid(True,alpha=0.5)\n",
    "plt.show()"
   ]
  },
  {
   "cell_type": "markdown",
   "metadata": {},
   "source": [
    "Tienen cantidades bastante similares."
   ]
  },
  {
   "cell_type": "markdown",
   "metadata": {},
   "source": [
    "### Tenemos dos grupos de control en el test A/A, donde comprobamos nuestros mecanismos y cálculos. Observa si hay una diferencia estadísticamente significativa entre las muestras 246 y 247.\n"
   ]
  },
  {
   "cell_type": "code",
   "execution_count": 90,
   "metadata": {
    "trusted": true
   },
   "outputs": [
    {
     "data": {
      "text/plain": [
       "Index([], dtype='int64', name='deviceidhash')"
      ]
     },
     "execution_count": 90,
     "metadata": {},
     "output_type": "execute_result"
    }
   ],
   "source": [
    "visitantes_en_ambos = df_cleanf.groupby('deviceidhash').agg({'expid':'nunique'})\n",
    "visitantes_en_ambos = visitantes_en_ambos[visitantes_en_ambos['expid']>1]\n",
    "visitantes_en_ambos = visitantes_en_ambos.index\n",
    "visitantes_en_ambos\n"
   ]
  },
  {
   "cell_type": "code",
   "execution_count": 91,
   "metadata": {
    "trusted": true
   },
   "outputs": [
    {
     "data": {
      "text/html": [
       "<div>\n",
       "<style scoped>\n",
       "    .dataframe tbody tr th:only-of-type {\n",
       "        vertical-align: middle;\n",
       "    }\n",
       "\n",
       "    .dataframe tbody tr th {\n",
       "        vertical-align: top;\n",
       "    }\n",
       "\n",
       "    .dataframe thead th {\n",
       "        text-align: right;\n",
       "    }\n",
       "</style>\n",
       "<table border=\"1\" class=\"dataframe\">\n",
       "  <thead>\n",
       "    <tr style=\"text-align: right;\">\n",
       "      <th></th>\n",
       "      <th>index</th>\n",
       "      <th>eventname</th>\n",
       "      <th>deviceidhash</th>\n",
       "      <th>eventtimestamp</th>\n",
       "      <th>expid</th>\n",
       "      <th>date</th>\n",
       "      <th>hour</th>\n",
       "    </tr>\n",
       "  </thead>\n",
       "  <tbody>\n",
       "    <tr>\n",
       "      <th>100795</th>\n",
       "      <td>100985</td>\n",
       "      <td>MainScreenAppear</td>\n",
       "      <td>2157460938665527156</td>\n",
       "      <td>2019-08-03 16:55:04</td>\n",
       "      <td>247</td>\n",
       "      <td>2019-08-03</td>\n",
       "      <td>16</td>\n",
       "    </tr>\n",
       "    <tr>\n",
       "      <th>185102</th>\n",
       "      <td>185435</td>\n",
       "      <td>MainScreenAppear</td>\n",
       "      <td>252498997408806928</td>\n",
       "      <td>2019-08-06 08:15:02</td>\n",
       "      <td>246</td>\n",
       "      <td>2019-08-06</td>\n",
       "      <td>8</td>\n",
       "    </tr>\n",
       "    <tr>\n",
       "      <th>46868</th>\n",
       "      <td>46976</td>\n",
       "      <td>MainScreenAppear</td>\n",
       "      <td>2981526417578151601</td>\n",
       "      <td>2019-08-02 08:02:24</td>\n",
       "      <td>246</td>\n",
       "      <td>2019-08-02</td>\n",
       "      <td>8</td>\n",
       "    </tr>\n",
       "    <tr>\n",
       "      <th>172943</th>\n",
       "      <td>173260</td>\n",
       "      <td>MainScreenAppear</td>\n",
       "      <td>1396226661259207902</td>\n",
       "      <td>2019-08-05 18:58:47</td>\n",
       "      <td>247</td>\n",
       "      <td>2019-08-05</td>\n",
       "      <td>18</td>\n",
       "    </tr>\n",
       "    <tr>\n",
       "      <th>152291</th>\n",
       "      <td>152577</td>\n",
       "      <td>CartScreenAppear</td>\n",
       "      <td>733563556336010524</td>\n",
       "      <td>2019-08-05 10:29:16</td>\n",
       "      <td>246</td>\n",
       "      <td>2019-08-05</td>\n",
       "      <td>10</td>\n",
       "    </tr>\n",
       "  </tbody>\n",
       "</table>\n",
       "</div>"
      ],
      "text/plain": [
       "         index         eventname         deviceidhash      eventtimestamp  \\\n",
       "100795  100985  MainScreenAppear  2157460938665527156 2019-08-03 16:55:04   \n",
       "185102  185435  MainScreenAppear   252498997408806928 2019-08-06 08:15:02   \n",
       "46868    46976  MainScreenAppear  2981526417578151601 2019-08-02 08:02:24   \n",
       "172943  173260  MainScreenAppear  1396226661259207902 2019-08-05 18:58:47   \n",
       "152291  152577  CartScreenAppear   733563556336010524 2019-08-05 10:29:16   \n",
       "\n",
       "       expid       date  hour  \n",
       "100795   247 2019-08-03    16  \n",
       "185102   246 2019-08-06     8  \n",
       "46868    246 2019-08-02     8  \n",
       "172943   247 2019-08-05    18  \n",
       "152291   246 2019-08-05    10  "
      ]
     },
     "execution_count": 91,
     "metadata": {},
     "output_type": "execute_result"
    }
   ],
   "source": [
    "muestra_7_6 = df_cleanf[(df_cleanf['expid']==247)|(df_cleanf['expid']==246)]\n",
    "muestra_7_6.sample(5)"
   ]
  },
  {
   "cell_type": "code",
   "execution_count": 92,
   "metadata": {
    "trusted": true
   },
   "outputs": [
    {
     "name": "stderr",
     "output_type": "stream",
     "text": [
      "/tmp/ipykernel_31224/526529943.py:1: SettingWithCopyWarning: \n",
      "A value is trying to be set on a copy of a slice from a DataFrame.\n",
      "Try using .loc[row_indexer,col_indexer] = value instead\n",
      "\n",
      "See the caveats in the documentation: https://pandas.pydata.org/pandas-docs/stable/user_guide/indexing.html#returning-a-view-versus-a-copy\n",
      "  muestra_7_6.loc[muestra_7_6['eventname'] == 'PaymentScreenSuccessful', 'compra'] = 1\n"
     ]
    }
   ],
   "source": [
    "muestra_7_6.loc[muestra_7_6['eventname'] == 'PaymentScreenSuccessful', 'compra'] = 1\n",
    "muestra_7_6.loc[muestra_7_6['eventname'] != 'PaymentScreenSuccessful', 'compra'] = 0"
   ]
  },
  {
   "cell_type": "markdown",
   "metadata": {},
   "source": [
    "Ya tenemos el total de personas que hay en cada grupo vamos a ver cuantas de ellas llegaron hasta el evento de payment succesfull esa va a ser nuestra metrica el rate de compra."
   ]
  },
  {
   "cell_type": "code",
   "execution_count": 93,
   "metadata": {
    "trusted": true
   },
   "outputs": [
    {
     "data": {
      "text/html": [
       "<div>\n",
       "<style scoped>\n",
       "    .dataframe tbody tr th:only-of-type {\n",
       "        vertical-align: middle;\n",
       "    }\n",
       "\n",
       "    .dataframe tbody tr th {\n",
       "        vertical-align: top;\n",
       "    }\n",
       "\n",
       "    .dataframe thead th {\n",
       "        text-align: right;\n",
       "    }\n",
       "</style>\n",
       "<table border=\"1\" class=\"dataframe\">\n",
       "  <thead>\n",
       "    <tr style=\"text-align: right;\">\n",
       "      <th></th>\n",
       "      <th>expid</th>\n",
       "      <th>cant_compradores</th>\n",
       "      <th>cant_inicio</th>\n",
       "      <th>rate %</th>\n",
       "    </tr>\n",
       "  </thead>\n",
       "  <tbody>\n",
       "    <tr>\n",
       "      <th>0</th>\n",
       "      <td>246</td>\n",
       "      <td>11852.0</td>\n",
       "      <td>79302</td>\n",
       "      <td>14.95</td>\n",
       "    </tr>\n",
       "    <tr>\n",
       "      <th>1</th>\n",
       "      <td>247</td>\n",
       "      <td>9981.0</td>\n",
       "      <td>77022</td>\n",
       "      <td>12.96</td>\n",
       "    </tr>\n",
       "  </tbody>\n",
       "</table>\n",
       "</div>"
      ],
      "text/plain": [
       "   expid  cant_compradores  cant_inicio  rate %\n",
       "0    246           11852.0        79302   14.95\n",
       "1    247            9981.0        77022   12.96"
      ]
     },
     "execution_count": 93,
     "metadata": {},
     "output_type": "execute_result"
    }
   ],
   "source": [
    "compradores_ = muestra_7_6.groupby('expid').agg({'compra':'sum','index':'count'}).reset_index()\n",
    "compradores_.columns=['expid','cant_compradores','cant_inicio']\n",
    "compradores_['rate %'] = ((compradores_['cant_compradores'] / compradores_['cant_inicio'])*100).round(2)\n",
    "compradores_"
   ]
  },
  {
   "cell_type": "markdown",
   "metadata": {},
   "source": [
    "Establecimos y calculamos el KPI o metrica que consideramos relevante. Encontramos que es mayor el rate usando la prueba 246"
   ]
  },
  {
   "cell_type": "code",
   "execution_count": 94,
   "metadata": {
    "trusted": true
   },
   "outputs": [],
   "source": [
    "comprador_246 = muestra_7_6[muestra_7_6['expid']==246]\n",
    "comprador_246 =  comprador_246['compra']\n",
    "\n",
    "comprador_247 = muestra_7_6[muestra_7_6['expid']==247]\n",
    "comprador_247 =  comprador_247['compra']"
   ]
  },
  {
   "cell_type": "code",
   "execution_count": 95,
   "metadata": {
    "trusted": true
   },
   "outputs": [
    {
     "name": "stdout",
     "output_type": "stream",
     "text": [
      "0.00000 valor p\n",
      "0.153 diferencia relativa\n"
     ]
    }
   ],
   "source": [
    "print(\"{0:.5f}\".format(st.mannwhitneyu(comprador_246, comprador_247)[1]),\"valor p\")\n",
    "print(\"{0:.3f}\".format(comprador_246.mean()/comprador_247.mean()-1),\"diferencia relativa\")"
   ]
  },
  {
   "cell_type": "markdown",
   "metadata": {},
   "source": [
    "El valor p es considerablemente inferior con un 0 a 0.05 por lo que rechazamos la hipótesis nula, no hay diferencias entre los tamaños de las muestras. El análisis de datos sin procesar mostró que las tasas de conversión de los grupos tienen diferencias estadísticamente significativas. La ganancia de conversión relativa del grupo 246 en comparación con el grupo 247 es del 15%."
   ]
  },
  {
   "cell_type": "markdown",
   "metadata": {},
   "source": [
    "### Selecciona el evento más popular. En cada uno de los grupos de control, encuentra la cantidad de usuarios que realizaron esta acción. Encuentra su proporción. Comprueba si la diferencia entre los grupos es estadísticamente significativa. Repite el procedimiento para todos los demás eventos (ahorrarás tiempo si creas una función especial para esta prueba). ¿Puedes confirmar que los grupos se dividieron correctamente?"
   ]
  },
  {
   "cell_type": "code",
   "execution_count": 96,
   "metadata": {
    "trusted": true
   },
   "outputs": [
    {
     "data": {
      "text/plain": [
       "expid  eventname              \n",
       "246    CartScreenAppear           1266\n",
       "       MainScreenAppear           2450\n",
       "       OffersScreenAppear         1542\n",
       "       PaymentScreenSuccessful    1200\n",
       "       Tutorial                    278\n",
       "247    CartScreenAppear           1238\n",
       "       MainScreenAppear           2476\n",
       "       OffersScreenAppear         1520\n",
       "       PaymentScreenSuccessful    1158\n",
       "       Tutorial                    283\n",
       "Name: deviceidhash, dtype: int64"
      ]
     },
     "execution_count": 96,
     "metadata": {},
     "output_type": "execute_result"
    }
   ],
   "source": [
    "most_popular = muestra_7_6.groupby(['expid','eventname'])['deviceidhash'].nunique()\n",
    "most_popular"
   ]
  },
  {
   "cell_type": "code",
   "execution_count": 97,
   "metadata": {
    "trusted": true
   },
   "outputs": [
    {
     "name": "stdout",
     "output_type": "stream",
     "text": [
      "\n",
      "Análisis del evento: Tutorial\n",
      "   expid  cantidad  total_usuarios  proporcion\n",
      "0    246       278            2484    0.111916\n",
      "1    247       283            2513    0.112614\n",
      "1.00000 valor p\n",
      "-0.006 diferencia relativa\n",
      "\n",
      "Análisis del evento: MainScreenAppear\n",
      "   expid  cantidad  total_usuarios  proporcion\n",
      "0    246      2450            2484    0.986312\n",
      "1    247      2476            2513    0.985277\n",
      "1.00000 valor p\n",
      "0.001 diferencia relativa\n",
      "\n",
      "Análisis del evento: OffersScreenAppear\n",
      "   expid  cantidad  total_usuarios  proporcion\n",
      "0    246      1542            2484    0.620773\n",
      "1    247      1520            2513    0.604855\n",
      "1.00000 valor p\n",
      "0.026 diferencia relativa\n",
      "\n",
      "Análisis del evento: PaymentScreenSuccessful\n",
      "   expid  cantidad  total_usuarios  proporcion\n",
      "0    246      1200            2484    0.483092\n",
      "1    247      1158            2513    0.460804\n",
      "1.00000 valor p\n",
      "0.048 diferencia relativa\n",
      "\n",
      "Análisis del evento: CartScreenAppear\n",
      "   expid  cantidad  total_usuarios  proporcion\n",
      "0    246      1266            2484    0.509662\n",
      "1    247      1238            2513    0.492638\n",
      "1.00000 valor p\n",
      "0.035 diferencia relativa\n"
     ]
    }
   ],
   "source": [
    "def encontrar_evento(df, nombre_evento):\n",
    "    conteo = df[df['eventname'] == nombre_evento].groupby('expid')['deviceidhash'].nunique()\n",
    "    total_usuarios = df.groupby('expid')['deviceidhash'].nunique()\n",
    "    ratio_evento = conteo / total_usuarios\n",
    "\n",
    "    resultados = pd.DataFrame({\n",
    "        'expid': conteo.index,\n",
    "        'cantidad': conteo.values,\n",
    "        'total_usuarios': total_usuarios.loc[conteo.index].values,\n",
    "        'proporcion': ratio_evento.values\n",
    "    })\n",
    "\n",
    "    print(f\"\\nAnálisis del evento: {nombre_evento}\")\n",
    "    print(resultados)\n",
    "\n",
    "    \n",
    "    usuario_grupo246 = conteo.get(246)\n",
    "    usuario_grupo247 = conteo.get(247)\n",
    "\n",
    "    if usuario_grupo246 is not None and usuario_grupo247 is not None:\n",
    "        \n",
    "        statistic, p_value = st.mannwhitneyu(usuario_grupo246, usuario_grupo247)\n",
    "        print(f\"{p_value:.5f} valor p\")\n",
    "\n",
    "        proporcion_grupo246 = ratio_evento.get(246)\n",
    "        proporcion_grupo247 = ratio_evento.get(247)\n",
    "\n",
    "        if proporcion_grupo246 is not None and proporcion_grupo247 is not None:\n",
    "            if proporcion_grupo247 != 0:\n",
    "                diferencia_relativa = (proporcion_grupo246 - proporcion_grupo247) / proporcion_grupo247\n",
    "                print(f\"{diferencia_relativa:.3f} diferencia relativa\")\n",
    "\n",
    "        \n",
    "eventos_unicos = muestra_7_6['eventname'].unique()\n",
    "for evento in eventos_unicos:\n",
    "    encontrar_evento(muestra_7_6, evento)"
   ]
  },
  {
   "cell_type": "markdown",
   "metadata": {},
   "source": [
    "Podemos confirmar que la division de los grupos es correcta la diferencia relativa mayor es tan solo del 4.8%."
   ]
  },
  {
   "cell_type": "markdown",
   "metadata": {},
   "source": [
    "### Haz lo mismo para el grupo con fuentes alteradas. Compara los resultados con los de cada uno de los grupos de control para cada evento de forma aislada. Compara los resultados con los resultados combinados de los grupos de control. ¿Qué conclusiones puedes sacar del experimento?"
   ]
  },
  {
   "cell_type": "markdown",
   "metadata": {},
   "source": [
    "Vamos a realizar el primero entre el grupo 246 de control y el 248 que es el de prueba. Esta vez si deberia haber diferencia para el 248"
   ]
  },
  {
   "cell_type": "code",
   "execution_count": 98,
   "metadata": {
    "trusted": true
   },
   "outputs": [
    {
     "name": "stdout",
     "output_type": "stream",
     "text": [
      "\n",
      "Análisis del evento: Tutorial\n",
      "   expid  cantidad  total_usuarios  proporcion\n",
      "0    246       278            2484    0.111916\n",
      "1    247       283            2513    0.112614\n",
      "2    248       279            2537    0.109972\n",
      "1.00000 valor p\n",
      "-0.006 diferencia relativa\n",
      "\n",
      "Análisis del evento: MainScreenAppear\n",
      "   expid  cantidad  total_usuarios  proporcion\n",
      "0    246      2450            2484    0.986312\n",
      "1    247      2476            2513    0.985277\n",
      "2    248      2493            2537    0.982657\n",
      "1.00000 valor p\n",
      "0.001 diferencia relativa\n",
      "\n",
      "Análisis del evento: OffersScreenAppear\n",
      "   expid  cantidad  total_usuarios  proporcion\n",
      "0    246      1542            2484    0.620773\n",
      "1    247      1520            2513    0.604855\n",
      "2    248      1531            2537    0.603469\n",
      "1.00000 valor p\n",
      "0.026 diferencia relativa\n",
      "\n",
      "Análisis del evento: CartScreenAppear\n",
      "   expid  cantidad  total_usuarios  proporcion\n",
      "0    246      1266            2484    0.509662\n",
      "1    247      1238            2513    0.492638\n",
      "2    248      1230            2537    0.484825\n",
      "1.00000 valor p\n",
      "0.035 diferencia relativa\n",
      "\n",
      "Análisis del evento: PaymentScreenSuccessful\n",
      "   expid  cantidad  total_usuarios  proporcion\n",
      "0    246      1200            2484    0.483092\n",
      "1    247      1158            2513    0.460804\n",
      "2    248      1181            2537    0.465510\n",
      "1.00000 valor p\n",
      "0.048 diferencia relativa\n"
     ]
    }
   ],
   "source": [
    "eventos_unicos = df_cleanf['eventname'].unique()\n",
    "for evento in eventos_unicos:\n",
    "    encontrar_evento(df_cleanf, evento)"
   ]
  },
  {
   "cell_type": "markdown",
   "metadata": {},
   "source": [
    "Encontramos que la diferencia tampoco es significativa por lo cual el cambio que se le realizo al grupo de prueba 248 no es realmente significativo. Dado que en comparacion la diferencia relativa aumenta pero muy poco ."
   ]
  },
  {
   "cell_type": "markdown",
   "metadata": {},
   "source": [
    "### ¿Qué nivel de significancia has establecido para probar las hipótesis estadísticas mencionadas anteriormente? Calcula cuántas pruebas de hipótesis estadísticas has realizado. Con un nivel de significancia estadística de 0.1, uno de cada 10 resultados podría ser falso. ¿Cuál debería ser el nivel de significancia? Si deseas cambiarlo, vuelve a ejecutar los pasos anteriores y comprueba tus conclusiones."
   ]
  },
  {
   "cell_type": "markdown",
   "metadata": {},
   "source": [
    "El niver de significancia lo estableci en el 5% y en todas las pruebas que realizamos el valor de p es mayor por lo tanto establecemos que no hay diferecnia significativa entre los grupos relacionados . Estableciendo los analizado se confirma el valor de significancia impuesto para el analisis."
   ]
  },
  {
   "cell_type": "markdown",
   "metadata": {},
   "source": [
    "<div class=\"alert alert-block alert-success\">\n",
    "<b>Comentario del revisor</b> <a class=\"tocSkip\"></a>\n",
    "\n",
    "Buen trabajo. LAs conclusiones son correctas. Se ha interpretado correctamente el resultado de los p valores obtenidos en las pruebas A/B.\n",
    "    \n",
    "\n",
    "</div>"
   ]
  },
  {
   "cell_type": "markdown",
   "metadata": {},
   "source": [
    "<div class=\"alert alert-block alert-success\">\n",
    "<b>Comentario del revisor</b> <a class=\"tocSkip\"></a>\n",
    "\n",
    "¡Hola!\n",
    "    \n",
    "Te quiero felicitar por tu proyecto, está bastante completo y bien realizado. Me gustó particularmente como se realizaron de manera iterativa las pruebas para comparar los dos grupos, muy bien. Puedo aprobar tu proyecto, éxito en los siguientes sprints.\n",
    "    \n",
    "Saludos, Marcos\n",
    "</div>"
   ]
  }
 ],
 "metadata": {
  "ExecuteTimeLog": [
   {
    "duration": 290,
    "start_time": "2025-04-25T13:22:48.495Z"
   },
   {
    "duration": 204,
    "start_time": "2025-04-25T13:22:51.720Z"
   },
   {
    "duration": 14,
    "start_time": "2025-04-25T13:22:58.323Z"
   },
   {
    "duration": 5,
    "start_time": "2025-04-25T13:23:13.424Z"
   },
   {
    "duration": 9,
    "start_time": "2025-04-25T13:23:15.523Z"
   },
   {
    "duration": 4,
    "start_time": "2025-04-25T13:23:26.633Z"
   },
   {
    "duration": 4,
    "start_time": "2025-04-25T13:23:59.236Z"
   },
   {
    "duration": 182,
    "start_time": "2025-04-25T13:24:15.902Z"
   },
   {
    "duration": 6,
    "start_time": "2025-04-25T13:24:17.805Z"
   },
   {
    "duration": 3,
    "start_time": "2025-04-25T13:24:25.861Z"
   },
   {
    "duration": 96,
    "start_time": "2025-04-25T13:24:30.015Z"
   },
   {
    "duration": 7,
    "start_time": "2025-04-25T13:24:31.487Z"
   },
   {
    "duration": 174,
    "start_time": "2025-04-25T13:25:26.539Z"
   },
   {
    "duration": 98,
    "start_time": "2025-04-25T13:25:29.365Z"
   },
   {
    "duration": 6,
    "start_time": "2025-04-25T13:25:30.872Z"
   },
   {
    "duration": 14,
    "start_time": "2025-04-25T13:25:32.189Z"
   },
   {
    "duration": 3,
    "start_time": "2025-04-25T13:25:46.330Z"
   },
   {
    "duration": 12,
    "start_time": "2025-04-25T13:26:51.380Z"
   },
   {
    "duration": 2,
    "start_time": "2025-04-25T13:27:01.191Z"
   },
   {
    "duration": 2,
    "start_time": "2025-04-25T13:27:13.183Z"
   },
   {
    "duration": 19,
    "start_time": "2025-04-25T13:27:16.464Z"
   },
   {
    "duration": 326,
    "start_time": "2025-04-25T13:28:00.948Z"
   },
   {
    "duration": 104,
    "start_time": "2025-04-25T13:28:01.276Z"
   },
   {
    "duration": 9,
    "start_time": "2025-04-25T13:28:01.382Z"
   },
   {
    "duration": 15,
    "start_time": "2025-04-25T13:28:01.393Z"
   },
   {
    "duration": 10,
    "start_time": "2025-04-25T13:28:01.410Z"
   },
   {
    "duration": 46,
    "start_time": "2025-04-25T13:30:42.814Z"
   },
   {
    "duration": 42,
    "start_time": "2025-04-25T13:30:49.110Z"
   },
   {
    "duration": 51,
    "start_time": "2025-04-25T13:31:02.310Z"
   },
   {
    "duration": 3,
    "start_time": "2025-04-25T13:32:45.091Z"
   },
   {
    "duration": 52,
    "start_time": "2025-04-25T13:33:06.945Z"
   },
   {
    "duration": 154,
    "start_time": "2025-04-25T13:33:13.540Z"
   },
   {
    "duration": 559,
    "start_time": "2025-04-25T13:33:22.940Z"
   },
   {
    "duration": 112,
    "start_time": "2025-04-25T13:33:29.074Z"
   },
   {
    "duration": 111,
    "start_time": "2025-04-25T13:33:37.801Z"
   },
   {
    "duration": 76,
    "start_time": "2025-04-25T13:33:41.058Z"
   },
   {
    "duration": 81,
    "start_time": "2025-04-25T13:33:43.283Z"
   },
   {
    "duration": 295,
    "start_time": "2025-04-25T13:33:53.291Z"
   },
   {
    "duration": 105,
    "start_time": "2025-04-25T13:33:53.588Z"
   },
   {
    "duration": 10,
    "start_time": "2025-04-25T13:33:53.695Z"
   },
   {
    "duration": 16,
    "start_time": "2025-04-25T13:33:53.707Z"
   },
   {
    "duration": 24,
    "start_time": "2025-04-25T13:33:53.725Z"
   },
   {
    "duration": 47,
    "start_time": "2025-04-25T13:33:53.751Z"
   },
   {
    "duration": 70,
    "start_time": "2025-04-25T13:33:53.800Z"
   },
   {
    "duration": 58,
    "start_time": "2025-04-25T13:34:17.521Z"
   },
   {
    "duration": 3,
    "start_time": "2025-04-25T13:34:30.938Z"
   },
   {
    "duration": 105,
    "start_time": "2025-04-25T13:34:33.583Z"
   },
   {
    "duration": 30,
    "start_time": "2025-04-25T13:38:48.617Z"
   },
   {
    "duration": 48,
    "start_time": "2025-04-25T13:39:12.289Z"
   },
   {
    "duration": 56,
    "start_time": "2025-04-25T13:39:32.256Z"
   },
   {
    "duration": 65,
    "start_time": "2025-04-25T13:39:37.662Z"
   },
   {
    "duration": 82,
    "start_time": "2025-04-25T13:41:36.910Z"
   },
   {
    "duration": 90,
    "start_time": "2025-04-25T13:41:42.694Z"
   },
   {
    "duration": 4,
    "start_time": "2025-04-25T13:42:18.592Z"
   },
   {
    "duration": 380,
    "start_time": "2025-04-25T13:42:27.047Z"
   },
   {
    "duration": 64,
    "start_time": "2025-04-25T13:46:10.569Z"
   },
   {
    "duration": 5,
    "start_time": "2025-04-25T13:49:36.258Z"
   },
   {
    "duration": 4,
    "start_time": "2025-04-25T13:49:40.030Z"
   },
   {
    "duration": 16,
    "start_time": "2025-04-25T13:49:57.720Z"
   },
   {
    "duration": 314,
    "start_time": "2025-04-25T13:50:19.253Z"
   },
   {
    "duration": 171,
    "start_time": "2025-04-25T13:50:19.569Z"
   },
   {
    "duration": 15,
    "start_time": "2025-04-25T13:50:19.742Z"
   },
   {
    "duration": 23,
    "start_time": "2025-04-25T13:50:19.760Z"
   },
   {
    "duration": 11,
    "start_time": "2025-04-25T13:50:19.786Z"
   },
   {
    "duration": 92,
    "start_time": "2025-04-25T13:50:19.798Z"
   },
   {
    "duration": 154,
    "start_time": "2025-04-25T13:50:19.893Z"
   },
   {
    "duration": 5,
    "start_time": "2025-04-25T13:50:20.051Z"
   },
   {
    "duration": 233,
    "start_time": "2025-04-25T13:50:20.058Z"
   },
   {
    "duration": 14,
    "start_time": "2025-04-25T13:51:19.135Z"
   },
   {
    "duration": 63,
    "start_time": "2025-04-25T13:51:27.144Z"
   },
   {
    "duration": 349,
    "start_time": "2025-04-25T13:56:31.618Z"
   },
   {
    "duration": 25,
    "start_time": "2025-04-25T13:56:40.597Z"
   },
   {
    "duration": 24,
    "start_time": "2025-04-25T13:56:45.119Z"
   },
   {
    "duration": 24,
    "start_time": "2025-04-25T13:56:59.129Z"
   },
   {
    "duration": 23,
    "start_time": "2025-04-25T13:57:06.515Z"
   },
   {
    "duration": 33,
    "start_time": "2025-04-25T13:57:33.918Z"
   },
   {
    "duration": 25,
    "start_time": "2025-04-25T13:57:40.783Z"
   },
   {
    "duration": 387,
    "start_time": "2025-04-25T13:58:07.073Z"
   },
   {
    "duration": 98,
    "start_time": "2025-04-25T13:58:17.937Z"
   },
   {
    "duration": 57,
    "start_time": "2025-04-25T13:58:20.025Z"
   },
   {
    "duration": 53,
    "start_time": "2025-04-25T13:58:24.347Z"
   },
   {
    "duration": 55,
    "start_time": "2025-04-25T13:58:34.918Z"
   },
   {
    "duration": 52,
    "start_time": "2025-04-25T13:58:44.247Z"
   },
   {
    "duration": 23,
    "start_time": "2025-04-25T13:58:51.964Z"
   },
   {
    "duration": 26,
    "start_time": "2025-04-25T13:58:56.767Z"
   },
   {
    "duration": 31,
    "start_time": "2025-04-25T13:59:20.043Z"
   },
   {
    "duration": 27,
    "start_time": "2025-04-25T13:59:28.485Z"
   },
   {
    "duration": 27,
    "start_time": "2025-04-25T13:59:38.512Z"
   },
   {
    "duration": 207,
    "start_time": "2025-04-25T14:00:42.875Z"
   },
   {
    "duration": 14,
    "start_time": "2025-04-25T14:01:01.397Z"
   },
   {
    "duration": 19,
    "start_time": "2025-04-25T14:01:06.996Z"
   },
   {
    "duration": 16,
    "start_time": "2025-04-25T14:01:38.037Z"
   },
   {
    "duration": 16,
    "start_time": "2025-04-25T14:02:00.575Z"
   },
   {
    "duration": 16,
    "start_time": "2025-04-25T14:02:06.632Z"
   },
   {
    "duration": 18,
    "start_time": "2025-04-25T14:02:16.085Z"
   },
   {
    "duration": 17,
    "start_time": "2025-04-25T14:02:18.654Z"
   },
   {
    "duration": 4,
    "start_time": "2025-04-25T14:03:20.363Z"
   },
   {
    "duration": 5,
    "start_time": "2025-04-25T14:03:25.871Z"
   },
   {
    "duration": 6,
    "start_time": "2025-04-25T14:03:40.882Z"
   },
   {
    "duration": 11,
    "start_time": "2025-04-25T14:03:57.077Z"
   },
   {
    "duration": 277,
    "start_time": "2025-04-25T16:00:39.147Z"
   },
   {
    "duration": 125,
    "start_time": "2025-04-25T16:00:39.426Z"
   },
   {
    "duration": 17,
    "start_time": "2025-04-25T16:00:39.553Z"
   },
   {
    "duration": 16,
    "start_time": "2025-04-25T16:00:39.571Z"
   },
   {
    "duration": 9,
    "start_time": "2025-04-25T16:00:39.589Z"
   },
   {
    "duration": 47,
    "start_time": "2025-04-25T16:00:39.600Z"
   },
   {
    "duration": 123,
    "start_time": "2025-04-25T16:00:39.648Z"
   },
   {
    "duration": 61,
    "start_time": "2025-04-25T16:00:39.773Z"
   },
   {
    "duration": 11,
    "start_time": "2025-04-25T16:00:39.835Z"
   },
   {
    "duration": 45,
    "start_time": "2025-04-25T16:00:39.847Z"
   },
   {
    "duration": 17,
    "start_time": "2025-04-25T16:00:39.894Z"
   },
   {
    "duration": 10,
    "start_time": "2025-04-25T16:01:32.574Z"
   },
   {
    "duration": 16,
    "start_time": "2025-04-25T16:02:30.189Z"
   },
   {
    "duration": 15,
    "start_time": "2025-04-25T16:02:44.897Z"
   },
   {
    "duration": 14,
    "start_time": "2025-04-25T16:02:52.114Z"
   },
   {
    "duration": 5,
    "start_time": "2025-04-25T16:06:30.183Z"
   },
   {
    "duration": 178,
    "start_time": "2025-04-25T16:06:32.800Z"
   },
   {
    "duration": 6,
    "start_time": "2025-04-25T16:06:37.279Z"
   },
   {
    "duration": 14,
    "start_time": "2025-04-25T16:06:57.112Z"
   },
   {
    "duration": 14,
    "start_time": "2025-04-25T16:07:01.113Z"
   },
   {
    "duration": 6,
    "start_time": "2025-04-25T16:07:40.165Z"
   },
   {
    "duration": 22,
    "start_time": "2025-04-25T16:32:24.717Z"
   },
   {
    "duration": 39,
    "start_time": "2025-04-25T16:33:08.730Z"
   },
   {
    "duration": 40,
    "start_time": "2025-04-25T16:33:22.833Z"
   },
   {
    "duration": 39,
    "start_time": "2025-04-25T16:33:38.408Z"
   },
   {
    "duration": 13,
    "start_time": "2025-04-25T16:34:28.018Z"
   },
   {
    "duration": 39,
    "start_time": "2025-04-25T16:34:40.973Z"
   },
   {
    "duration": 13,
    "start_time": "2025-04-25T16:34:44.797Z"
   },
   {
    "duration": 11,
    "start_time": "2025-04-25T16:34:47.659Z"
   },
   {
    "duration": 2317,
    "start_time": "2025-04-25T16:36:12.128Z"
   },
   {
    "duration": 435,
    "start_time": "2025-04-25T16:36:19.490Z"
   },
   {
    "duration": 154,
    "start_time": "2025-04-25T16:36:19.930Z"
   },
   {
    "duration": 8,
    "start_time": "2025-04-25T16:36:20.087Z"
   },
   {
    "duration": 19,
    "start_time": "2025-04-25T16:36:20.100Z"
   },
   {
    "duration": 10,
    "start_time": "2025-04-25T16:36:20.123Z"
   },
   {
    "duration": 84,
    "start_time": "2025-04-25T16:36:20.134Z"
   },
   {
    "duration": 127,
    "start_time": "2025-04-25T16:36:20.220Z"
   },
   {
    "duration": 108,
    "start_time": "2025-04-25T16:36:20.349Z"
   },
   {
    "duration": 13,
    "start_time": "2025-04-25T16:36:20.459Z"
   },
   {
    "duration": 8,
    "start_time": "2025-04-25T16:36:20.476Z"
   },
   {
    "duration": 23,
    "start_time": "2025-04-25T16:36:20.486Z"
   },
   {
    "duration": 60,
    "start_time": "2025-04-25T16:36:20.512Z"
   },
   {
    "duration": 267,
    "start_time": "2025-04-25T16:36:20.576Z"
   },
   {
    "duration": 1385,
    "start_time": "2025-04-25T16:36:24.259Z"
   },
   {
    "duration": 279,
    "start_time": "2025-04-25T16:36:49.792Z"
   },
   {
    "duration": 281,
    "start_time": "2025-04-25T17:00:26.972Z"
   },
   {
    "duration": 276,
    "start_time": "2025-04-25T17:00:53.339Z"
   },
   {
    "duration": 96,
    "start_time": "2025-04-25T17:02:41.000Z"
   },
   {
    "duration": 136,
    "start_time": "2025-04-25T17:03:30.523Z"
   },
   {
    "duration": 13,
    "start_time": "2025-04-25T17:04:13.108Z"
   },
   {
    "duration": 150,
    "start_time": "2025-04-25T17:04:49.854Z"
   },
   {
    "duration": 37,
    "start_time": "2025-04-25T17:05:00.127Z"
   },
   {
    "duration": 37,
    "start_time": "2025-04-25T17:05:04.854Z"
   },
   {
    "duration": 2,
    "start_time": "2025-04-25T17:08:19.998Z"
   },
   {
    "duration": 23,
    "start_time": "2025-04-25T17:09:39.669Z"
   },
   {
    "duration": 35,
    "start_time": "2025-04-25T17:09:48.159Z"
   },
   {
    "duration": 30,
    "start_time": "2025-04-25T17:10:21.421Z"
   },
   {
    "duration": 42,
    "start_time": "2025-04-25T17:12:48.584Z"
   },
   {
    "duration": 40,
    "start_time": "2025-04-25T17:12:51.600Z"
   },
   {
    "duration": 9,
    "start_time": "2025-04-25T17:13:36.230Z"
   },
   {
    "duration": 18,
    "start_time": "2025-04-25T17:14:00.167Z"
   },
   {
    "duration": 39,
    "start_time": "2025-04-25T17:14:42.009Z"
   },
   {
    "duration": 41,
    "start_time": "2025-04-25T17:15:33.344Z"
   },
   {
    "duration": 41,
    "start_time": "2025-04-25T17:15:47.102Z"
   },
   {
    "duration": 45,
    "start_time": "2025-04-25T17:15:54.568Z"
   },
   {
    "duration": 40,
    "start_time": "2025-04-25T17:16:25.331Z"
   },
   {
    "duration": 41,
    "start_time": "2025-04-25T17:16:45.771Z"
   },
   {
    "duration": 43,
    "start_time": "2025-04-25T17:16:54.353Z"
   },
   {
    "duration": 41,
    "start_time": "2025-04-25T17:17:21.044Z"
   },
   {
    "duration": 40,
    "start_time": "2025-04-25T17:17:51.109Z"
   },
   {
    "duration": 32,
    "start_time": "2025-04-25T17:18:20.425Z"
   },
   {
    "duration": 24,
    "start_time": "2025-04-25T17:19:05.162Z"
   },
   {
    "duration": 25,
    "start_time": "2025-04-25T17:19:41.406Z"
   },
   {
    "duration": 41,
    "start_time": "2025-04-25T17:19:49.603Z"
   },
   {
    "duration": 29,
    "start_time": "2025-04-25T17:20:04.939Z"
   },
   {
    "duration": 40,
    "start_time": "2025-04-25T17:20:11.813Z"
   },
   {
    "duration": 56,
    "start_time": "2025-04-25T17:20:16.767Z"
   },
   {
    "duration": 42,
    "start_time": "2025-04-25T17:20:21.963Z"
   },
   {
    "duration": 52,
    "start_time": "2025-04-25T17:20:25.519Z"
   },
   {
    "duration": 40,
    "start_time": "2025-04-25T17:20:29.994Z"
   },
   {
    "duration": 14,
    "start_time": "2025-04-25T17:20:41.061Z"
   },
   {
    "duration": 26,
    "start_time": "2025-04-25T17:20:59.608Z"
   },
   {
    "duration": 14,
    "start_time": "2025-04-25T17:21:10.536Z"
   },
   {
    "duration": 25,
    "start_time": "2025-04-25T17:21:45.263Z"
   },
   {
    "duration": 14,
    "start_time": "2025-04-25T17:22:13.143Z"
   },
   {
    "duration": 5,
    "start_time": "2025-04-25T17:23:15.131Z"
   },
   {
    "duration": 5,
    "start_time": "2025-04-25T17:23:20.212Z"
   },
   {
    "duration": 24,
    "start_time": "2025-04-25T17:26:34.451Z"
   },
   {
    "duration": 38,
    "start_time": "2025-04-25T17:27:19.370Z"
   },
   {
    "duration": 34,
    "start_time": "2025-04-25T17:27:25.703Z"
   },
   {
    "duration": 33,
    "start_time": "2025-04-25T17:27:29.171Z"
   },
   {
    "duration": 27,
    "start_time": "2025-04-25T17:27:32.529Z"
   },
   {
    "duration": 70,
    "start_time": "2025-04-25T17:27:42.806Z"
   },
   {
    "duration": 25,
    "start_time": "2025-04-25T17:27:46.458Z"
   },
   {
    "duration": 4,
    "start_time": "2025-04-25T17:28:04.625Z"
   },
   {
    "duration": 31,
    "start_time": "2025-04-25T17:28:08.254Z"
   },
   {
    "duration": 34,
    "start_time": "2025-04-25T17:28:16.878Z"
   },
   {
    "duration": 38,
    "start_time": "2025-04-25T17:28:26.310Z"
   },
   {
    "duration": 35,
    "start_time": "2025-04-25T17:28:31.609Z"
   },
   {
    "duration": 329,
    "start_time": "2025-04-25T17:28:44.553Z"
   },
   {
    "duration": 62,
    "start_time": "2025-04-25T17:29:11.863Z"
   },
   {
    "duration": 62,
    "start_time": "2025-04-25T17:29:18.786Z"
   },
   {
    "duration": 55,
    "start_time": "2025-04-25T17:29:25.098Z"
   },
   {
    "duration": 73,
    "start_time": "2025-04-25T17:29:32.456Z"
   },
   {
    "duration": 56,
    "start_time": "2025-04-25T17:29:42.886Z"
   },
   {
    "duration": 443,
    "start_time": "2025-04-25T17:30:54.570Z"
   },
   {
    "duration": 144,
    "start_time": "2025-04-25T17:30:55.015Z"
   },
   {
    "duration": 38,
    "start_time": "2025-04-25T17:30:55.160Z"
   },
   {
    "duration": 19,
    "start_time": "2025-04-25T17:30:55.200Z"
   },
   {
    "duration": 11,
    "start_time": "2025-04-25T17:30:55.220Z"
   },
   {
    "duration": 64,
    "start_time": "2025-04-25T17:30:55.233Z"
   },
   {
    "duration": 108,
    "start_time": "2025-04-25T17:30:55.299Z"
   },
   {
    "duration": 90,
    "start_time": "2025-04-25T17:30:55.409Z"
   },
   {
    "duration": 11,
    "start_time": "2025-04-25T17:30:55.502Z"
   },
   {
    "duration": 8,
    "start_time": "2025-04-25T17:30:55.518Z"
   },
   {
    "duration": 14,
    "start_time": "2025-04-25T17:30:55.528Z"
   },
   {
    "duration": 59,
    "start_time": "2025-04-25T17:30:55.544Z"
   },
   {
    "duration": 337,
    "start_time": "2025-04-25T17:30:55.605Z"
   },
   {
    "duration": 111,
    "start_time": "2025-04-25T17:30:55.943Z"
   },
   {
    "duration": 57,
    "start_time": "2025-04-25T17:30:56.055Z"
   },
   {
    "duration": 40,
    "start_time": "2025-04-25T17:30:56.114Z"
   },
   {
    "duration": 53,
    "start_time": "2025-04-25T17:30:56.155Z"
   },
   {
    "duration": 16,
    "start_time": "2025-04-25T17:30:56.211Z"
   },
   {
    "duration": 5,
    "start_time": "2025-04-25T17:30:56.228Z"
   },
   {
    "duration": 607,
    "start_time": "2025-04-25T17:30:56.234Z"
   },
   {
    "duration": 65,
    "start_time": "2025-04-25T17:31:13.379Z"
   },
   {
    "duration": 53,
    "start_time": "2025-04-25T17:31:24.808Z"
   },
   {
    "duration": 462,
    "start_time": "2025-04-25T17:31:35.932Z"
   },
   {
    "duration": 141,
    "start_time": "2025-04-25T17:31:36.396Z"
   },
   {
    "duration": 9,
    "start_time": "2025-04-25T17:31:36.539Z"
   },
   {
    "duration": 15,
    "start_time": "2025-04-25T17:31:36.550Z"
   },
   {
    "duration": 21,
    "start_time": "2025-04-25T17:31:36.577Z"
   },
   {
    "duration": 46,
    "start_time": "2025-04-25T17:31:36.600Z"
   },
   {
    "duration": 120,
    "start_time": "2025-04-25T17:31:36.647Z"
   },
   {
    "duration": 89,
    "start_time": "2025-04-25T17:31:36.774Z"
   },
   {
    "duration": 16,
    "start_time": "2025-04-25T17:31:36.865Z"
   },
   {
    "duration": 11,
    "start_time": "2025-04-25T17:31:36.895Z"
   },
   {
    "duration": 15,
    "start_time": "2025-04-25T17:31:36.907Z"
   },
   {
    "duration": 40,
    "start_time": "2025-04-25T17:31:36.925Z"
   },
   {
    "duration": 337,
    "start_time": "2025-04-25T17:31:36.967Z"
   },
   {
    "duration": 101,
    "start_time": "2025-04-25T17:31:37.306Z"
   },
   {
    "duration": 38,
    "start_time": "2025-04-25T17:31:37.409Z"
   },
   {
    "duration": 57,
    "start_time": "2025-04-25T17:31:37.449Z"
   },
   {
    "duration": 41,
    "start_time": "2025-04-25T17:31:37.508Z"
   },
   {
    "duration": 48,
    "start_time": "2025-04-25T17:31:37.550Z"
   },
   {
    "duration": 6,
    "start_time": "2025-04-25T17:31:37.600Z"
   },
   {
    "duration": 593,
    "start_time": "2025-04-25T17:31:37.607Z"
   },
   {
    "duration": 10,
    "start_time": "2025-04-25T17:32:06.783Z"
   },
   {
    "duration": 132,
    "start_time": "2025-04-25T17:32:54.918Z"
   },
   {
    "duration": 17,
    "start_time": "2025-04-25T17:32:57.117Z"
   },
   {
    "duration": 20,
    "start_time": "2025-04-25T17:33:01.795Z"
   },
   {
    "duration": 5,
    "start_time": "2025-04-25T17:33:16.335Z"
   },
   {
    "duration": 23,
    "start_time": "2025-04-25T17:33:19.690Z"
   },
   {
    "duration": 18,
    "start_time": "2025-04-25T17:33:43.045Z"
   },
   {
    "duration": 21,
    "start_time": "2025-04-25T17:33:50.099Z"
   },
   {
    "duration": 41,
    "start_time": "2025-04-25T17:33:59.061Z"
   },
   {
    "duration": 23,
    "start_time": "2025-04-25T17:34:07.926Z"
   },
   {
    "duration": 140,
    "start_time": "2025-04-25T17:34:45.471Z"
   },
   {
    "duration": 33,
    "start_time": "2025-04-25T17:34:59.574Z"
   },
   {
    "duration": 109,
    "start_time": "2025-04-25T17:35:01.332Z"
   },
   {
    "duration": 149,
    "start_time": "2025-04-25T17:35:27.860Z"
   },
   {
    "duration": 131,
    "start_time": "2025-04-25T17:35:51.800Z"
   },
   {
    "duration": 226,
    "start_time": "2025-04-25T17:36:26.025Z"
   },
   {
    "duration": 156,
    "start_time": "2025-04-25T17:36:32.750Z"
   },
   {
    "duration": 160,
    "start_time": "2025-04-25T17:36:57.544Z"
   },
   {
    "duration": 138,
    "start_time": "2025-04-25T17:38:29.169Z"
   },
   {
    "duration": 154,
    "start_time": "2025-04-25T17:38:39.731Z"
   },
   {
    "duration": 154,
    "start_time": "2025-04-25T17:39:03.894Z"
   },
   {
    "duration": 201,
    "start_time": "2025-04-25T17:39:06.664Z"
   },
   {
    "duration": 398,
    "start_time": "2025-04-25T17:39:16.613Z"
   },
   {
    "duration": 811,
    "start_time": "2025-04-25T17:39:23.021Z"
   },
   {
    "duration": 122,
    "start_time": "2025-04-25T17:39:23.835Z"
   },
   {
    "duration": 9,
    "start_time": "2025-04-25T17:39:23.958Z"
   },
   {
    "duration": 24,
    "start_time": "2025-04-25T17:39:23.982Z"
   },
   {
    "duration": 8,
    "start_time": "2025-04-25T17:39:24.009Z"
   },
   {
    "duration": 47,
    "start_time": "2025-04-25T17:39:24.019Z"
   },
   {
    "duration": 122,
    "start_time": "2025-04-25T17:39:24.085Z"
   },
   {
    "duration": 68,
    "start_time": "2025-04-25T17:39:24.209Z"
   },
   {
    "duration": 13,
    "start_time": "2025-04-25T17:39:24.294Z"
   },
   {
    "duration": 7,
    "start_time": "2025-04-25T17:39:24.309Z"
   },
   {
    "duration": 15,
    "start_time": "2025-04-25T17:39:24.317Z"
   },
   {
    "duration": 64,
    "start_time": "2025-04-25T17:39:24.333Z"
   },
   {
    "duration": 354,
    "start_time": "2025-04-25T17:39:24.402Z"
   },
   {
    "duration": 99,
    "start_time": "2025-04-25T17:39:24.759Z"
   },
   {
    "duration": 62,
    "start_time": "2025-04-25T17:39:24.860Z"
   },
   {
    "duration": 40,
    "start_time": "2025-04-25T17:39:24.923Z"
   },
   {
    "duration": 49,
    "start_time": "2025-04-25T17:39:24.964Z"
   },
   {
    "duration": 14,
    "start_time": "2025-04-25T17:39:25.015Z"
   },
   {
    "duration": 5,
    "start_time": "2025-04-25T17:39:25.031Z"
   },
   {
    "duration": 7,
    "start_time": "2025-04-25T17:39:25.038Z"
   },
   {
    "duration": 30,
    "start_time": "2025-04-25T17:39:25.071Z"
   },
   {
    "duration": 588,
    "start_time": "2025-04-25T17:39:25.106Z"
   },
   {
    "duration": 162,
    "start_time": "2025-04-25T17:39:53.495Z"
   },
   {
    "duration": 119,
    "start_time": "2025-04-25T17:40:05.018Z"
   },
   {
    "duration": 237,
    "start_time": "2025-04-25T17:40:09.978Z"
   },
   {
    "duration": 172,
    "start_time": "2025-04-25T17:40:18.348Z"
   },
   {
    "duration": 4,
    "start_time": "2025-04-25T17:44:33.198Z"
   },
   {
    "duration": 331,
    "start_time": "2025-04-25T17:44:36.690Z"
   },
   {
    "duration": 23,
    "start_time": "2025-04-25T17:44:42.343Z"
   },
   {
    "duration": 4,
    "start_time": "2025-04-25T17:45:15.492Z"
   },
   {
    "duration": 22,
    "start_time": "2025-04-25T17:45:29.234Z"
   },
   {
    "duration": 24,
    "start_time": "2025-04-25T17:45:33.718Z"
   },
   {
    "duration": 27,
    "start_time": "2025-04-25T17:46:00.090Z"
   },
   {
    "duration": 24,
    "start_time": "2025-04-25T17:46:05.815Z"
   },
   {
    "duration": 5,
    "start_time": "2025-04-25T17:49:36.198Z"
   },
   {
    "duration": 11,
    "start_time": "2025-04-25T17:49:44.090Z"
   },
   {
    "duration": 4,
    "start_time": "2025-04-25T17:49:51.861Z"
   },
   {
    "duration": 219,
    "start_time": "2025-04-25T17:50:10.015Z"
   },
   {
    "duration": 34,
    "start_time": "2025-04-25T17:50:20.747Z"
   },
   {
    "duration": 30,
    "start_time": "2025-04-25T17:50:25.917Z"
   },
   {
    "duration": 6,
    "start_time": "2025-04-25T17:50:32.597Z"
   },
   {
    "duration": 7,
    "start_time": "2025-04-25T17:51:03.598Z"
   },
   {
    "duration": 5,
    "start_time": "2025-04-25T17:51:41.282Z"
   },
   {
    "duration": 7,
    "start_time": "2025-04-25T17:51:48.028Z"
   },
   {
    "duration": 22,
    "start_time": "2025-04-25T17:52:19.475Z"
   },
   {
    "duration": 14,
    "start_time": "2025-04-25T17:52:27.772Z"
   },
   {
    "duration": 6,
    "start_time": "2025-04-25T17:52:34.123Z"
   },
   {
    "duration": 14,
    "start_time": "2025-04-25T17:52:50.618Z"
   },
   {
    "duration": 14,
    "start_time": "2025-04-25T17:52:54.426Z"
   },
   {
    "duration": 15,
    "start_time": "2025-04-25T17:52:59.182Z"
   },
   {
    "duration": 7,
    "start_time": "2025-04-25T17:53:12.454Z"
   },
   {
    "duration": 3,
    "start_time": "2025-04-25T17:53:17.093Z"
   },
   {
    "duration": 4,
    "start_time": "2025-04-25T17:53:22.121Z"
   },
   {
    "duration": 4,
    "start_time": "2025-04-25T17:53:30.091Z"
   },
   {
    "duration": 7,
    "start_time": "2025-04-25T17:53:33.457Z"
   },
   {
    "duration": 2,
    "start_time": "2025-04-25T17:55:07.646Z"
   },
   {
    "duration": 5,
    "start_time": "2025-04-25T18:02:39.315Z"
   },
   {
    "duration": 11,
    "start_time": "2025-04-25T18:06:48.635Z"
   },
   {
    "duration": 7,
    "start_time": "2025-04-25T18:06:54.315Z"
   },
   {
    "duration": 7,
    "start_time": "2025-04-25T18:07:07.208Z"
   },
   {
    "duration": 7,
    "start_time": "2025-04-25T18:07:15.906Z"
   },
   {
    "duration": 7,
    "start_time": "2025-04-25T18:07:26.397Z"
   },
   {
    "duration": 7,
    "start_time": "2025-04-25T18:12:13.109Z"
   },
   {
    "duration": 14,
    "start_time": "2025-04-25T18:12:40.536Z"
   },
   {
    "duration": 9,
    "start_time": "2025-04-25T18:12:46.885Z"
   },
   {
    "duration": 306,
    "start_time": "2025-04-25T18:25:43.344Z"
   },
   {
    "duration": 86,
    "start_time": "2025-04-25T18:26:22.995Z"
   },
   {
    "duration": 94,
    "start_time": "2025-04-25T18:26:36.139Z"
   },
   {
    "duration": 4,
    "start_time": "2025-04-25T18:26:44.899Z"
   },
   {
    "duration": 9,
    "start_time": "2025-04-25T18:26:50.586Z"
   },
   {
    "duration": 7,
    "start_time": "2025-04-25T18:28:42.686Z"
   },
   {
    "duration": 8,
    "start_time": "2025-04-25T18:28:49.021Z"
   },
   {
    "duration": 13,
    "start_time": "2025-04-25T18:29:17.135Z"
   },
   {
    "duration": 8,
    "start_time": "2025-04-25T18:29:26.355Z"
   },
   {
    "duration": 845,
    "start_time": "2025-04-25T18:30:12.844Z"
   },
   {
    "duration": 116,
    "start_time": "2025-04-25T18:30:13.698Z"
   },
   {
    "duration": 8,
    "start_time": "2025-04-25T18:30:13.816Z"
   },
   {
    "duration": 15,
    "start_time": "2025-04-25T18:30:13.827Z"
   },
   {
    "duration": 9,
    "start_time": "2025-04-25T18:30:13.843Z"
   },
   {
    "duration": 67,
    "start_time": "2025-04-25T18:30:13.854Z"
   },
   {
    "duration": 118,
    "start_time": "2025-04-25T18:30:13.923Z"
   },
   {
    "duration": 79,
    "start_time": "2025-04-25T18:30:14.043Z"
   },
   {
    "duration": 11,
    "start_time": "2025-04-25T18:30:14.123Z"
   },
   {
    "duration": 6,
    "start_time": "2025-04-25T18:30:14.137Z"
   },
   {
    "duration": 32,
    "start_time": "2025-04-25T18:30:14.145Z"
   },
   {
    "duration": 43,
    "start_time": "2025-04-25T18:30:14.194Z"
   },
   {
    "duration": 344,
    "start_time": "2025-04-25T18:30:14.239Z"
   },
   {
    "duration": 110,
    "start_time": "2025-04-25T18:30:14.584Z"
   },
   {
    "duration": 47,
    "start_time": "2025-04-25T18:30:14.696Z"
   },
   {
    "duration": 51,
    "start_time": "2025-04-25T18:30:14.744Z"
   },
   {
    "duration": 42,
    "start_time": "2025-04-25T18:30:14.801Z"
   },
   {
    "duration": 15,
    "start_time": "2025-04-25T18:30:14.844Z"
   },
   {
    "duration": 37,
    "start_time": "2025-04-25T18:30:14.860Z"
   },
   {
    "duration": 8,
    "start_time": "2025-04-25T18:30:14.899Z"
   },
   {
    "duration": 23,
    "start_time": "2025-04-25T18:30:14.909Z"
   },
   {
    "duration": 19,
    "start_time": "2025-04-25T18:30:14.934Z"
   },
   {
    "duration": 246,
    "start_time": "2025-04-25T18:30:14.955Z"
   },
   {
    "duration": 3,
    "start_time": "2025-04-25T18:30:15.203Z"
   },
   {
    "duration": 6,
    "start_time": "2025-04-25T18:30:15.208Z"
   },
   {
    "duration": 8,
    "start_time": "2025-04-25T18:30:15.215Z"
   },
   {
    "duration": 8,
    "start_time": "2025-04-25T18:30:15.225Z"
   },
   {
    "duration": 3,
    "start_time": "2025-04-25T18:51:51.511Z"
   },
   {
    "duration": 3,
    "start_time": "2025-04-25T18:52:00.611Z"
   },
   {
    "duration": 3,
    "start_time": "2025-04-25T18:52:24.819Z"
   },
   {
    "duration": 582,
    "start_time": "2025-04-25T18:53:34.926Z"
   },
   {
    "duration": 4,
    "start_time": "2025-04-25T18:53:50.441Z"
   },
   {
    "duration": 8,
    "start_time": "2025-04-25T18:53:59.339Z"
   },
   {
    "duration": 7,
    "start_time": "2025-04-25T18:54:08.518Z"
   },
   {
    "duration": 3,
    "start_time": "2025-04-25T18:54:23.593Z"
   },
   {
    "duration": 4,
    "start_time": "2025-04-25T18:54:37.099Z"
   },
   {
    "duration": 4,
    "start_time": "2025-04-25T18:55:55.862Z"
   },
   {
    "duration": 5,
    "start_time": "2025-04-25T18:57:38.023Z"
   },
   {
    "duration": 19,
    "start_time": "2025-04-25T18:57:49.370Z"
   },
   {
    "duration": 2607,
    "start_time": "2025-04-25T20:03:59.902Z"
   },
   {
    "duration": 135,
    "start_time": "2025-04-25T20:04:02.511Z"
   },
   {
    "duration": 8,
    "start_time": "2025-04-25T20:04:02.648Z"
   },
   {
    "duration": 15,
    "start_time": "2025-04-25T20:04:02.659Z"
   },
   {
    "duration": 10,
    "start_time": "2025-04-25T20:04:02.675Z"
   },
   {
    "duration": 56,
    "start_time": "2025-04-25T20:04:02.687Z"
   },
   {
    "duration": 112,
    "start_time": "2025-04-25T20:04:02.745Z"
   },
   {
    "duration": 70,
    "start_time": "2025-04-25T20:04:02.859Z"
   },
   {
    "duration": 10,
    "start_time": "2025-04-25T20:04:02.930Z"
   },
   {
    "duration": 6,
    "start_time": "2025-04-25T20:04:02.943Z"
   },
   {
    "duration": 15,
    "start_time": "2025-04-25T20:04:02.952Z"
   },
   {
    "duration": 68,
    "start_time": "2025-04-25T20:04:02.968Z"
   },
   {
    "duration": 302,
    "start_time": "2025-04-25T20:04:03.038Z"
   },
   {
    "duration": 115,
    "start_time": "2025-04-25T20:04:03.342Z"
   },
   {
    "duration": 50,
    "start_time": "2025-04-25T20:04:03.460Z"
   },
   {
    "duration": 40,
    "start_time": "2025-04-25T20:04:03.511Z"
   },
   {
    "duration": 60,
    "start_time": "2025-04-25T20:04:03.553Z"
   },
   {
    "duration": 17,
    "start_time": "2025-04-25T20:04:03.614Z"
   },
   {
    "duration": 5,
    "start_time": "2025-04-25T20:04:03.632Z"
   },
   {
    "duration": 7,
    "start_time": "2025-04-25T20:04:03.639Z"
   },
   {
    "duration": 24,
    "start_time": "2025-04-25T20:04:03.647Z"
   },
   {
    "duration": 47,
    "start_time": "2025-04-25T20:04:03.673Z"
   },
   {
    "duration": 170,
    "start_time": "2025-04-25T20:04:03.722Z"
   },
   {
    "duration": 3,
    "start_time": "2025-04-25T20:04:03.894Z"
   },
   {
    "duration": 15,
    "start_time": "2025-04-25T20:04:03.899Z"
   },
   {
    "duration": 8,
    "start_time": "2025-04-25T20:04:03.916Z"
   },
   {
    "duration": 8,
    "start_time": "2025-04-25T20:04:03.926Z"
   },
   {
    "duration": 3,
    "start_time": "2025-04-25T20:04:03.937Z"
   },
   {
    "duration": 5,
    "start_time": "2025-04-25T20:04:03.941Z"
   },
   {
    "duration": 12,
    "start_time": "2025-04-25T20:04:09.833Z"
   },
   {
    "duration": 636,
    "start_time": "2025-04-25T20:05:14.332Z"
   },
   {
    "duration": 12,
    "start_time": "2025-04-25T20:05:26.883Z"
   },
   {
    "duration": 138,
    "start_time": "2025-04-25T20:05:33.109Z"
   },
   {
    "duration": 24,
    "start_time": "2025-04-25T20:05:38.418Z"
   },
   {
    "duration": 23,
    "start_time": "2025-04-25T20:05:46.417Z"
   },
   {
    "duration": 94,
    "start_time": "2025-04-25T20:06:05.936Z"
   },
   {
    "duration": 99,
    "start_time": "2025-04-25T20:06:19.118Z"
   },
   {
    "duration": 115,
    "start_time": "2025-04-25T20:06:29.583Z"
   },
   {
    "duration": 117,
    "start_time": "2025-04-25T20:06:45.461Z"
   },
   {
    "duration": 99,
    "start_time": "2025-04-25T20:06:51.850Z"
   },
   {
    "duration": 109,
    "start_time": "2025-04-25T20:07:06.505Z"
   },
   {
    "duration": 97,
    "start_time": "2025-04-25T20:07:12.314Z"
   },
   {
    "duration": 98,
    "start_time": "2025-04-25T20:07:46.330Z"
   },
   {
    "duration": 96,
    "start_time": "2025-04-25T20:08:00.897Z"
   },
   {
    "duration": 5,
    "start_time": "2025-04-25T20:08:08.286Z"
   },
   {
    "duration": 3,
    "start_time": "2025-04-25T20:08:33.186Z"
   },
   {
    "duration": 4,
    "start_time": "2025-04-25T20:08:38.029Z"
   },
   {
    "duration": 101,
    "start_time": "2025-04-25T20:08:57.481Z"
   },
   {
    "duration": 98,
    "start_time": "2025-04-25T20:09:01.871Z"
   },
   {
    "duration": 102,
    "start_time": "2025-04-25T20:09:20.107Z"
   },
   {
    "duration": 8,
    "start_time": "2025-04-25T20:17:24.334Z"
   },
   {
    "duration": 10,
    "start_time": "2025-04-25T20:17:39.763Z"
   },
   {
    "duration": 13,
    "start_time": "2025-04-25T20:18:56.911Z"
   },
   {
    "duration": 225,
    "start_time": "2025-04-25T20:19:36.919Z"
   },
   {
    "duration": 32,
    "start_time": "2025-04-25T20:21:31.057Z"
   },
   {
    "duration": 4,
    "start_time": "2025-04-25T20:22:35.412Z"
   },
   {
    "duration": 8,
    "start_time": "2025-04-25T20:22:40.171Z"
   },
   {
    "duration": 7,
    "start_time": "2025-04-25T20:23:08.435Z"
   },
   {
    "duration": 886,
    "start_time": "2025-04-25T20:23:13.908Z"
   },
   {
    "duration": 112,
    "start_time": "2025-04-25T20:23:14.797Z"
   },
   {
    "duration": 9,
    "start_time": "2025-04-25T20:23:14.911Z"
   },
   {
    "duration": 15,
    "start_time": "2025-04-25T20:23:14.922Z"
   },
   {
    "duration": 9,
    "start_time": "2025-04-25T20:23:14.940Z"
   },
   {
    "duration": 80,
    "start_time": "2025-04-25T20:23:14.951Z"
   },
   {
    "duration": 105,
    "start_time": "2025-04-25T20:23:15.034Z"
   },
   {
    "duration": 73,
    "start_time": "2025-04-25T20:23:15.141Z"
   },
   {
    "duration": 9,
    "start_time": "2025-04-25T20:23:15.215Z"
   },
   {
    "duration": 7,
    "start_time": "2025-04-25T20:23:15.226Z"
   },
   {
    "duration": 14,
    "start_time": "2025-04-25T20:23:15.235Z"
   },
   {
    "duration": 60,
    "start_time": "2025-04-25T20:23:15.251Z"
   },
   {
    "duration": 304,
    "start_time": "2025-04-25T20:23:15.314Z"
   },
   {
    "duration": 118,
    "start_time": "2025-04-25T20:23:15.622Z"
   },
   {
    "duration": 39,
    "start_time": "2025-04-25T20:23:15.742Z"
   },
   {
    "duration": 65,
    "start_time": "2025-04-25T20:23:15.783Z"
   },
   {
    "duration": 47,
    "start_time": "2025-04-25T20:23:15.850Z"
   },
   {
    "duration": 17,
    "start_time": "2025-04-25T20:23:15.910Z"
   },
   {
    "duration": 4,
    "start_time": "2025-04-25T20:23:15.930Z"
   },
   {
    "duration": 8,
    "start_time": "2025-04-25T20:23:15.936Z"
   },
   {
    "duration": 26,
    "start_time": "2025-04-25T20:23:15.945Z"
   },
   {
    "duration": 47,
    "start_time": "2025-04-25T20:23:15.973Z"
   },
   {
    "duration": 212,
    "start_time": "2025-04-25T20:23:16.022Z"
   },
   {
    "duration": 4,
    "start_time": "2025-04-25T20:23:16.236Z"
   },
   {
    "duration": 6,
    "start_time": "2025-04-25T20:23:16.242Z"
   },
   {
    "duration": 8,
    "start_time": "2025-04-25T20:23:16.249Z"
   },
   {
    "duration": 8,
    "start_time": "2025-04-25T20:23:16.258Z"
   },
   {
    "duration": 3,
    "start_time": "2025-04-25T20:23:16.268Z"
   },
   {
    "duration": 5,
    "start_time": "2025-04-25T20:23:16.272Z"
   },
   {
    "duration": 54,
    "start_time": "2025-04-25T20:23:16.278Z"
   },
   {
    "duration": 111,
    "start_time": "2025-04-25T20:23:16.333Z"
   },
   {
    "duration": 28,
    "start_time": "2025-04-25T20:23:16.446Z"
   },
   {
    "duration": 8,
    "start_time": "2025-04-25T20:23:16.475Z"
   },
   {
    "duration": 33,
    "start_time": "2025-04-25T20:23:16.486Z"
   },
   {
    "duration": 30,
    "start_time": "2025-04-25T20:23:51.256Z"
   },
   {
    "duration": 3,
    "start_time": "2025-04-25T20:24:16.474Z"
   },
   {
    "duration": 7,
    "start_time": "2025-04-25T20:24:22.139Z"
   },
   {
    "duration": 886,
    "start_time": "2025-04-25T20:24:32.624Z"
   },
   {
    "duration": 108,
    "start_time": "2025-04-25T20:24:33.512Z"
   },
   {
    "duration": 9,
    "start_time": "2025-04-25T20:24:33.622Z"
   },
   {
    "duration": 15,
    "start_time": "2025-04-25T20:24:33.633Z"
   },
   {
    "duration": 8,
    "start_time": "2025-04-25T20:24:33.652Z"
   },
   {
    "duration": 68,
    "start_time": "2025-04-25T20:24:33.662Z"
   },
   {
    "duration": 109,
    "start_time": "2025-04-25T20:24:33.732Z"
   },
   {
    "duration": 77,
    "start_time": "2025-04-25T20:24:33.843Z"
   },
   {
    "duration": 11,
    "start_time": "2025-04-25T20:24:33.921Z"
   },
   {
    "duration": 8,
    "start_time": "2025-04-25T20:24:33.934Z"
   },
   {
    "duration": 16,
    "start_time": "2025-04-25T20:24:33.944Z"
   },
   {
    "duration": 72,
    "start_time": "2025-04-25T20:24:33.962Z"
   },
   {
    "duration": 306,
    "start_time": "2025-04-25T20:24:34.037Z"
   },
   {
    "duration": 106,
    "start_time": "2025-04-25T20:24:34.347Z"
   },
   {
    "duration": 36,
    "start_time": "2025-04-25T20:24:34.456Z"
   },
   {
    "duration": 57,
    "start_time": "2025-04-25T20:24:34.494Z"
   },
   {
    "duration": 57,
    "start_time": "2025-04-25T20:24:34.552Z"
   },
   {
    "duration": 16,
    "start_time": "2025-04-25T20:24:34.611Z"
   },
   {
    "duration": 4,
    "start_time": "2025-04-25T20:24:34.629Z"
   },
   {
    "duration": 7,
    "start_time": "2025-04-25T20:24:34.635Z"
   },
   {
    "duration": 24,
    "start_time": "2025-04-25T20:24:34.644Z"
   },
   {
    "duration": 50,
    "start_time": "2025-04-25T20:24:34.670Z"
   },
   {
    "duration": 204,
    "start_time": "2025-04-25T20:24:34.721Z"
   },
   {
    "duration": 3,
    "start_time": "2025-04-25T20:24:34.926Z"
   },
   {
    "duration": 7,
    "start_time": "2025-04-25T20:24:34.930Z"
   },
   {
    "duration": 8,
    "start_time": "2025-04-25T20:24:34.938Z"
   },
   {
    "duration": 9,
    "start_time": "2025-04-25T20:24:34.948Z"
   },
   {
    "duration": 3,
    "start_time": "2025-04-25T20:24:34.959Z"
   },
   {
    "duration": 5,
    "start_time": "2025-04-25T20:24:34.964Z"
   },
   {
    "duration": 62,
    "start_time": "2025-04-25T20:24:34.971Z"
   },
   {
    "duration": 114,
    "start_time": "2025-04-25T20:24:35.034Z"
   },
   {
    "duration": 29,
    "start_time": "2025-04-25T20:24:35.150Z"
   },
   {
    "duration": 7,
    "start_time": "2025-04-25T20:24:35.181Z"
   },
   {
    "duration": 31,
    "start_time": "2025-04-25T20:24:35.189Z"
   },
   {
    "duration": 21,
    "start_time": "2025-04-25T20:24:58.810Z"
   },
   {
    "duration": 12,
    "start_time": "2025-04-25T20:25:09.027Z"
   },
   {
    "duration": 19,
    "start_time": "2025-04-25T20:26:10.278Z"
   },
   {
    "duration": 14,
    "start_time": "2025-04-25T20:26:28.581Z"
   },
   {
    "duration": 35,
    "start_time": "2025-04-25T20:26:36.768Z"
   },
   {
    "duration": 833,
    "start_time": "2025-04-25T20:26:50.862Z"
   },
   {
    "duration": 105,
    "start_time": "2025-04-25T20:26:51.697Z"
   },
   {
    "duration": 11,
    "start_time": "2025-04-25T20:26:51.803Z"
   },
   {
    "duration": 15,
    "start_time": "2025-04-25T20:26:51.817Z"
   },
   {
    "duration": 8,
    "start_time": "2025-04-25T20:26:51.834Z"
   },
   {
    "duration": 72,
    "start_time": "2025-04-25T20:26:51.844Z"
   },
   {
    "duration": 117,
    "start_time": "2025-04-25T20:26:51.918Z"
   },
   {
    "duration": 61,
    "start_time": "2025-04-25T20:26:52.036Z"
   },
   {
    "duration": 16,
    "start_time": "2025-04-25T20:26:52.108Z"
   },
   {
    "duration": 33,
    "start_time": "2025-04-25T20:26:52.127Z"
   },
   {
    "duration": 9,
    "start_time": "2025-04-25T20:26:52.162Z"
   },
   {
    "duration": 47,
    "start_time": "2025-04-25T20:26:52.173Z"
   },
   {
    "duration": 29,
    "start_time": "2025-04-25T20:26:52.222Z"
   },
   {
    "duration": 56,
    "start_time": "2025-04-25T20:26:52.253Z"
   },
   {
    "duration": 306,
    "start_time": "2025-04-25T20:26:52.311Z"
   },
   {
    "duration": 107,
    "start_time": "2025-04-25T20:26:52.619Z"
   },
   {
    "duration": 49,
    "start_time": "2025-04-25T20:26:52.728Z"
   },
   {
    "duration": 59,
    "start_time": "2025-04-25T20:26:52.779Z"
   },
   {
    "duration": 42,
    "start_time": "2025-04-25T20:26:52.840Z"
   },
   {
    "duration": 120,
    "start_time": "2025-04-25T20:26:52.884Z"
   },
   {
    "duration": 12,
    "start_time": "2025-04-25T20:26:53.009Z"
   },
   {
    "duration": 8,
    "start_time": "2025-04-25T20:26:53.023Z"
   },
   {
    "duration": 24,
    "start_time": "2025-04-25T20:26:53.033Z"
   },
   {
    "duration": 54,
    "start_time": "2025-04-25T20:26:53.059Z"
   },
   {
    "duration": 224,
    "start_time": "2025-04-25T20:26:53.114Z"
   },
   {
    "duration": 3,
    "start_time": "2025-04-25T20:26:53.340Z"
   },
   {
    "duration": 6,
    "start_time": "2025-04-25T20:26:53.345Z"
   },
   {
    "duration": 8,
    "start_time": "2025-04-25T20:26:53.354Z"
   },
   {
    "duration": 9,
    "start_time": "2025-04-25T20:26:53.364Z"
   },
   {
    "duration": 3,
    "start_time": "2025-04-25T20:26:53.375Z"
   },
   {
    "duration": 6,
    "start_time": "2025-04-25T20:26:53.408Z"
   },
   {
    "duration": 42,
    "start_time": "2025-04-25T20:26:53.416Z"
   },
   {
    "duration": 115,
    "start_time": "2025-04-25T20:26:53.460Z"
   },
   {
    "duration": 59,
    "start_time": "2025-04-25T20:26:53.577Z"
   },
   {
    "duration": 24,
    "start_time": "2025-04-25T20:26:53.638Z"
   },
   {
    "duration": 14,
    "start_time": "2025-04-25T20:26:53.664Z"
   },
   {
    "duration": 85,
    "start_time": "2025-04-25T20:27:47.060Z"
   },
   {
    "duration": 899,
    "start_time": "2025-04-25T20:27:58.510Z"
   },
   {
    "duration": 107,
    "start_time": "2025-04-25T20:27:59.412Z"
   },
   {
    "duration": 8,
    "start_time": "2025-04-25T20:27:59.521Z"
   },
   {
    "duration": 15,
    "start_time": "2025-04-25T20:27:59.531Z"
   },
   {
    "duration": 9,
    "start_time": "2025-04-25T20:27:59.548Z"
   },
   {
    "duration": 75,
    "start_time": "2025-04-25T20:27:59.559Z"
   },
   {
    "duration": 98,
    "start_time": "2025-04-25T20:27:59.635Z"
   },
   {
    "duration": 82,
    "start_time": "2025-04-25T20:27:59.734Z"
   },
   {
    "duration": 19,
    "start_time": "2025-04-25T20:27:59.818Z"
   },
   {
    "duration": 71,
    "start_time": "2025-04-25T20:27:59.840Z"
   },
   {
    "duration": 11,
    "start_time": "2025-04-25T20:27:59.914Z"
   },
   {
    "duration": 22,
    "start_time": "2025-04-25T20:27:59.927Z"
   },
   {
    "duration": 30,
    "start_time": "2025-04-25T20:27:59.950Z"
   },
   {
    "duration": 43,
    "start_time": "2025-04-25T20:28:00.010Z"
   },
   {
    "duration": 338,
    "start_time": "2025-04-25T20:28:00.055Z"
   },
   {
    "duration": 110,
    "start_time": "2025-04-25T20:28:00.395Z"
   },
   {
    "duration": 51,
    "start_time": "2025-04-25T20:28:00.510Z"
   },
   {
    "duration": 59,
    "start_time": "2025-04-25T20:28:00.563Z"
   },
   {
    "duration": 45,
    "start_time": "2025-04-25T20:28:00.624Z"
   },
   {
    "duration": 138,
    "start_time": "2025-04-25T20:28:00.671Z"
   },
   {
    "duration": 12,
    "start_time": "2025-04-25T20:28:00.810Z"
   },
   {
    "duration": 9,
    "start_time": "2025-04-25T20:28:00.825Z"
   },
   {
    "duration": 26,
    "start_time": "2025-04-25T20:28:00.836Z"
   },
   {
    "duration": 56,
    "start_time": "2025-04-25T20:28:00.864Z"
   },
   {
    "duration": 219,
    "start_time": "2025-04-25T20:28:00.921Z"
   },
   {
    "duration": 2,
    "start_time": "2025-04-25T20:28:01.142Z"
   },
   {
    "duration": 7,
    "start_time": "2025-04-25T20:28:01.146Z"
   },
   {
    "duration": 8,
    "start_time": "2025-04-25T20:28:01.154Z"
   },
   {
    "duration": 8,
    "start_time": "2025-04-25T20:28:01.164Z"
   },
   {
    "duration": 4,
    "start_time": "2025-04-25T20:28:01.173Z"
   },
   {
    "duration": 33,
    "start_time": "2025-04-25T20:28:01.179Z"
   },
   {
    "duration": 42,
    "start_time": "2025-04-25T20:28:01.214Z"
   },
   {
    "duration": 113,
    "start_time": "2025-04-25T20:28:01.258Z"
   },
   {
    "duration": 59,
    "start_time": "2025-04-25T20:28:01.373Z"
   },
   {
    "duration": 23,
    "start_time": "2025-04-25T20:28:01.435Z"
   },
   {
    "duration": 11,
    "start_time": "2025-04-25T20:28:01.460Z"
   },
   {
    "duration": 105,
    "start_time": "2025-04-25T20:28:35.969Z"
   },
   {
    "duration": 60,
    "start_time": "2025-04-25T20:28:37.502Z"
   },
   {
    "duration": 19,
    "start_time": "2025-04-25T20:28:39.970Z"
   },
   {
    "duration": 35,
    "start_time": "2025-04-25T20:28:41.791Z"
   },
   {
    "duration": 23,
    "start_time": "2025-04-25T20:29:03.099Z"
   },
   {
    "duration": 4,
    "start_time": "2025-04-25T20:30:53.652Z"
   },
   {
    "duration": 25,
    "start_time": "2025-04-25T20:31:28.673Z"
   },
   {
    "duration": 27,
    "start_time": "2025-04-25T20:31:34.642Z"
   },
   {
    "duration": 39,
    "start_time": "2025-04-25T20:31:50.165Z"
   },
   {
    "duration": 14,
    "start_time": "2025-04-25T20:32:37.363Z"
   },
   {
    "duration": 15,
    "start_time": "2025-04-25T20:32:41.877Z"
   },
   {
    "duration": 40,
    "start_time": "2025-04-25T20:32:51.854Z"
   },
   {
    "duration": 108,
    "start_time": "2025-04-25T20:33:16.343Z"
   },
   {
    "duration": 122,
    "start_time": "2025-04-25T20:33:48.403Z"
   },
   {
    "duration": 157,
    "start_time": "2025-04-26T12:14:33.172Z"
   },
   {
    "duration": 2598,
    "start_time": "2025-04-26T12:14:39.390Z"
   },
   {
    "duration": 121,
    "start_time": "2025-04-26T12:14:41.990Z"
   },
   {
    "duration": 9,
    "start_time": "2025-04-26T12:14:42.113Z"
   },
   {
    "duration": 15,
    "start_time": "2025-04-26T12:14:42.124Z"
   },
   {
    "duration": 9,
    "start_time": "2025-04-26T12:14:42.140Z"
   },
   {
    "duration": 62,
    "start_time": "2025-04-26T12:14:42.150Z"
   },
   {
    "duration": 111,
    "start_time": "2025-04-26T12:14:42.214Z"
   },
   {
    "duration": 70,
    "start_time": "2025-04-26T12:14:42.327Z"
   },
   {
    "duration": 16,
    "start_time": "2025-04-26T12:14:42.399Z"
   },
   {
    "duration": 33,
    "start_time": "2025-04-26T12:14:42.418Z"
   },
   {
    "duration": 22,
    "start_time": "2025-04-26T12:14:42.453Z"
   },
   {
    "duration": 22,
    "start_time": "2025-04-26T12:14:42.477Z"
   },
   {
    "duration": 28,
    "start_time": "2025-04-26T12:14:42.501Z"
   },
   {
    "duration": 65,
    "start_time": "2025-04-26T12:14:42.531Z"
   },
   {
    "duration": 303,
    "start_time": "2025-04-26T12:14:42.598Z"
   },
   {
    "duration": 102,
    "start_time": "2025-04-26T12:14:42.903Z"
   },
   {
    "duration": 49,
    "start_time": "2025-04-26T12:14:43.007Z"
   },
   {
    "duration": 43,
    "start_time": "2025-04-26T12:14:43.070Z"
   },
   {
    "duration": 40,
    "start_time": "2025-04-26T12:14:43.115Z"
   },
   {
    "duration": 109,
    "start_time": "2025-04-26T12:14:43.170Z"
   },
   {
    "duration": 11,
    "start_time": "2025-04-26T12:14:43.281Z"
   },
   {
    "duration": 7,
    "start_time": "2025-04-26T12:14:43.294Z"
   },
   {
    "duration": 24,
    "start_time": "2025-04-26T12:14:43.303Z"
   },
   {
    "duration": 51,
    "start_time": "2025-04-26T12:14:43.329Z"
   },
   {
    "duration": 157,
    "start_time": "2025-04-26T12:14:43.382Z"
   },
   {
    "duration": 2,
    "start_time": "2025-04-26T12:14:43.541Z"
   },
   {
    "duration": 6,
    "start_time": "2025-04-26T12:14:43.545Z"
   },
   {
    "duration": 8,
    "start_time": "2025-04-26T12:14:43.570Z"
   },
   {
    "duration": 8,
    "start_time": "2025-04-26T12:14:43.579Z"
   },
   {
    "duration": 3,
    "start_time": "2025-04-26T12:14:43.589Z"
   },
   {
    "duration": 5,
    "start_time": "2025-04-26T12:14:43.594Z"
   },
   {
    "duration": 43,
    "start_time": "2025-04-26T12:14:43.600Z"
   },
   {
    "duration": 109,
    "start_time": "2025-04-26T12:14:43.669Z"
   },
   {
    "duration": 54,
    "start_time": "2025-04-26T12:14:43.779Z"
   },
   {
    "duration": 43,
    "start_time": "2025-04-26T12:14:43.835Z"
   },
   {
    "duration": 120,
    "start_time": "2025-04-26T12:14:43.880Z"
   },
   {
    "duration": 37,
    "start_time": "2025-04-26T12:15:28.487Z"
   },
   {
    "duration": 9,
    "start_time": "2025-04-26T12:22:34.187Z"
   },
   {
    "duration": 11,
    "start_time": "2025-04-26T12:22:41.340Z"
   },
   {
    "duration": 23,
    "start_time": "2025-04-26T12:22:53.215Z"
   },
   {
    "duration": 20,
    "start_time": "2025-04-26T12:23:15.479Z"
   },
   {
    "duration": 17,
    "start_time": "2025-04-26T12:23:28.149Z"
   },
   {
    "duration": 17,
    "start_time": "2025-04-26T12:23:31.331Z"
   },
   {
    "duration": 8,
    "start_time": "2025-04-26T12:24:53.784Z"
   },
   {
    "duration": 7,
    "start_time": "2025-04-26T12:24:58.359Z"
   },
   {
    "duration": 7,
    "start_time": "2025-04-26T12:25:14.657Z"
   },
   {
    "duration": 17,
    "start_time": "2025-04-26T12:25:16.237Z"
   },
   {
    "duration": 9,
    "start_time": "2025-04-26T12:25:36.990Z"
   },
   {
    "duration": 8,
    "start_time": "2025-04-26T12:25:59.321Z"
   },
   {
    "duration": 7,
    "start_time": "2025-04-26T12:26:37.143Z"
   },
   {
    "duration": 60,
    "start_time": "2025-04-26T12:26:46.232Z"
   },
   {
    "duration": 11,
    "start_time": "2025-04-26T12:28:18.065Z"
   },
   {
    "duration": 10,
    "start_time": "2025-04-26T12:29:06.912Z"
   },
   {
    "duration": 13,
    "start_time": "2025-04-26T12:29:11.380Z"
   },
   {
    "duration": 130,
    "start_time": "2025-04-26T12:29:22.839Z"
   },
   {
    "duration": 14,
    "start_time": "2025-04-26T12:29:26.130Z"
   },
   {
    "duration": 15,
    "start_time": "2025-04-26T12:29:53.562Z"
   },
   {
    "duration": 21,
    "start_time": "2025-04-26T12:30:28.477Z"
   },
   {
    "duration": 22,
    "start_time": "2025-04-26T12:31:15.510Z"
   },
   {
    "duration": 20,
    "start_time": "2025-04-26T12:31:25.457Z"
   },
   {
    "duration": 22,
    "start_time": "2025-04-26T12:32:17.020Z"
   },
   {
    "duration": 807,
    "start_time": "2025-04-26T12:32:24.227Z"
   },
   {
    "duration": 107,
    "start_time": "2025-04-26T12:32:25.036Z"
   },
   {
    "duration": 10,
    "start_time": "2025-04-26T12:32:25.144Z"
   },
   {
    "duration": 27,
    "start_time": "2025-04-26T12:32:25.155Z"
   },
   {
    "duration": 9,
    "start_time": "2025-04-26T12:32:25.184Z"
   },
   {
    "duration": 47,
    "start_time": "2025-04-26T12:32:25.195Z"
   },
   {
    "duration": 116,
    "start_time": "2025-04-26T12:32:25.244Z"
   },
   {
    "duration": 66,
    "start_time": "2025-04-26T12:32:25.361Z"
   },
   {
    "duration": 15,
    "start_time": "2025-04-26T12:32:25.429Z"
   },
   {
    "duration": 46,
    "start_time": "2025-04-26T12:32:25.446Z"
   },
   {
    "duration": 10,
    "start_time": "2025-04-26T12:32:25.494Z"
   },
   {
    "duration": 21,
    "start_time": "2025-04-26T12:32:25.507Z"
   },
   {
    "duration": 46,
    "start_time": "2025-04-26T12:32:25.530Z"
   },
   {
    "duration": 39,
    "start_time": "2025-04-26T12:32:25.580Z"
   },
   {
    "duration": 313,
    "start_time": "2025-04-26T12:32:25.621Z"
   },
   {
    "duration": 101,
    "start_time": "2025-04-26T12:32:25.936Z"
   },
   {
    "duration": 57,
    "start_time": "2025-04-26T12:32:26.039Z"
   },
   {
    "duration": 40,
    "start_time": "2025-04-26T12:32:26.098Z"
   },
   {
    "duration": 54,
    "start_time": "2025-04-26T12:32:26.140Z"
   },
   {
    "duration": 114,
    "start_time": "2025-04-26T12:32:26.195Z"
   },
   {
    "duration": 11,
    "start_time": "2025-04-26T12:32:26.311Z"
   },
   {
    "duration": 11,
    "start_time": "2025-04-26T12:32:26.323Z"
   },
   {
    "duration": 43,
    "start_time": "2025-04-26T12:32:26.338Z"
   },
   {
    "duration": 27,
    "start_time": "2025-04-26T12:32:26.383Z"
   },
   {
    "duration": 218,
    "start_time": "2025-04-26T12:32:26.412Z"
   },
   {
    "duration": 2,
    "start_time": "2025-04-26T12:32:26.632Z"
   },
   {
    "duration": 7,
    "start_time": "2025-04-26T12:32:26.635Z"
   },
   {
    "duration": 26,
    "start_time": "2025-04-26T12:32:26.644Z"
   },
   {
    "duration": 8,
    "start_time": "2025-04-26T12:32:26.671Z"
   },
   {
    "duration": 4,
    "start_time": "2025-04-26T12:32:26.680Z"
   },
   {
    "duration": 5,
    "start_time": "2025-04-26T12:32:26.685Z"
   },
   {
    "duration": 40,
    "start_time": "2025-04-26T12:32:26.692Z"
   },
   {
    "duration": 131,
    "start_time": "2025-04-26T12:32:26.734Z"
   },
   {
    "duration": 46,
    "start_time": "2025-04-26T12:32:26.870Z"
   },
   {
    "duration": 34,
    "start_time": "2025-04-26T12:32:26.917Z"
   },
   {
    "duration": 33,
    "start_time": "2025-04-26T12:32:26.953Z"
   },
   {
    "duration": 9,
    "start_time": "2025-04-26T12:32:26.987Z"
   },
   {
    "duration": 13,
    "start_time": "2025-04-26T12:32:26.998Z"
   },
   {
    "duration": 160,
    "start_time": "2025-04-26T12:32:27.012Z"
   },
   {
    "duration": 9,
    "start_time": "2025-04-26T12:33:52.605Z"
   },
   {
    "duration": 15,
    "start_time": "2025-04-26T12:33:54.546Z"
   },
   {
    "duration": 8,
    "start_time": "2025-04-26T12:33:55.997Z"
   },
   {
    "duration": 6,
    "start_time": "2025-04-26T12:35:05.854Z"
   },
   {
    "duration": 10,
    "start_time": "2025-04-26T12:35:10.394Z"
   },
   {
    "duration": 495,
    "start_time": "2025-04-26T12:35:21.906Z"
   },
   {
    "duration": 9,
    "start_time": "2025-04-26T12:38:16.986Z"
   },
   {
    "duration": 9,
    "start_time": "2025-04-26T12:48:11.529Z"
   },
   {
    "duration": 10,
    "start_time": "2025-04-26T12:48:17.442Z"
   },
   {
    "duration": 4,
    "start_time": "2025-04-26T12:56:03.498Z"
   },
   {
    "duration": 6,
    "start_time": "2025-04-26T12:56:11.253Z"
   },
   {
    "duration": 20,
    "start_time": "2025-04-26T12:56:32.592Z"
   },
   {
    "duration": 21,
    "start_time": "2025-04-26T12:56:36.558Z"
   },
   {
    "duration": 33,
    "start_time": "2025-04-26T12:57:03.722Z"
   },
   {
    "duration": 27,
    "start_time": "2025-04-26T12:57:10.512Z"
   },
   {
    "duration": 26,
    "start_time": "2025-04-26T12:57:24.109Z"
   },
   {
    "duration": 6,
    "start_time": "2025-04-26T13:24:27.201Z"
   },
   {
    "duration": 3,
    "start_time": "2025-04-26T13:24:40.357Z"
   },
   {
    "duration": 26,
    "start_time": "2025-04-26T13:24:56.444Z"
   },
   {
    "duration": 38,
    "start_time": "2025-04-26T13:45:03.137Z"
   },
   {
    "duration": 2,
    "start_time": "2025-04-26T13:45:14.780Z"
   },
   {
    "duration": 51,
    "start_time": "2025-04-26T13:45:19.083Z"
   },
   {
    "duration": 3,
    "start_time": "2025-04-26T13:45:51.919Z"
   },
   {
    "duration": 793,
    "start_time": "2025-04-26T13:45:56.966Z"
   },
   {
    "duration": 104,
    "start_time": "2025-04-26T13:45:57.761Z"
   },
   {
    "duration": 9,
    "start_time": "2025-04-26T13:45:57.867Z"
   },
   {
    "duration": 15,
    "start_time": "2025-04-26T13:45:57.879Z"
   },
   {
    "duration": 8,
    "start_time": "2025-04-26T13:45:57.896Z"
   },
   {
    "duration": 66,
    "start_time": "2025-04-26T13:45:57.906Z"
   },
   {
    "duration": 102,
    "start_time": "2025-04-26T13:45:57.974Z"
   },
   {
    "duration": 60,
    "start_time": "2025-04-26T13:45:58.077Z"
   },
   {
    "duration": 32,
    "start_time": "2025-04-26T13:45:58.139Z"
   },
   {
    "duration": 35,
    "start_time": "2025-04-26T13:45:58.174Z"
   },
   {
    "duration": 9,
    "start_time": "2025-04-26T13:45:58.211Z"
   },
   {
    "duration": 22,
    "start_time": "2025-04-26T13:45:58.222Z"
   },
   {
    "duration": 49,
    "start_time": "2025-04-26T13:45:58.247Z"
   },
   {
    "duration": 40,
    "start_time": "2025-04-26T13:45:58.297Z"
   },
   {
    "duration": 306,
    "start_time": "2025-04-26T13:45:58.339Z"
   },
   {
    "duration": 103,
    "start_time": "2025-04-26T13:45:58.647Z"
   },
   {
    "duration": 55,
    "start_time": "2025-04-26T13:45:58.752Z"
   },
   {
    "duration": 39,
    "start_time": "2025-04-26T13:45:58.808Z"
   },
   {
    "duration": 54,
    "start_time": "2025-04-26T13:45:58.849Z"
   },
   {
    "duration": 113,
    "start_time": "2025-04-26T13:45:58.904Z"
   },
   {
    "duration": 11,
    "start_time": "2025-04-26T13:45:59.019Z"
   },
   {
    "duration": 8,
    "start_time": "2025-04-26T13:45:59.031Z"
   },
   {
    "duration": 40,
    "start_time": "2025-04-26T13:45:59.041Z"
   },
   {
    "duration": 28,
    "start_time": "2025-04-26T13:45:59.082Z"
   },
   {
    "duration": 210,
    "start_time": "2025-04-26T13:45:59.111Z"
   },
   {
    "duration": 2,
    "start_time": "2025-04-26T13:45:59.324Z"
   },
   {
    "duration": 6,
    "start_time": "2025-04-26T13:45:59.328Z"
   },
   {
    "duration": 8,
    "start_time": "2025-04-26T13:45:59.339Z"
   },
   {
    "duration": 29,
    "start_time": "2025-04-26T13:45:59.348Z"
   },
   {
    "duration": 4,
    "start_time": "2025-04-26T13:45:59.378Z"
   },
   {
    "duration": 4,
    "start_time": "2025-04-26T13:45:59.383Z"
   },
   {
    "duration": 41,
    "start_time": "2025-04-26T13:45:59.389Z"
   },
   {
    "duration": 122,
    "start_time": "2025-04-26T13:45:59.431Z"
   },
   {
    "duration": 49,
    "start_time": "2025-04-26T13:45:59.555Z"
   },
   {
    "duration": 34,
    "start_time": "2025-04-26T13:45:59.607Z"
   },
   {
    "duration": 29,
    "start_time": "2025-04-26T13:45:59.643Z"
   },
   {
    "duration": 9,
    "start_time": "2025-04-26T13:45:59.674Z"
   },
   {
    "duration": 12,
    "start_time": "2025-04-26T13:45:59.685Z"
   },
   {
    "duration": 9,
    "start_time": "2025-04-26T13:45:59.699Z"
   },
   {
    "duration": 29,
    "start_time": "2025-04-26T13:45:59.710Z"
   },
   {
    "duration": 636,
    "start_time": "2025-04-26T13:46:37.382Z"
   },
   {
    "duration": 12,
    "start_time": "2025-04-26T13:47:15.701Z"
   },
   {
    "duration": 12,
    "start_time": "2025-04-26T13:47:18.299Z"
   },
   {
    "duration": 87,
    "start_time": "2025-04-26T13:48:07.524Z"
   },
   {
    "duration": 331,
    "start_time": "2025-04-26T13:48:09.946Z"
   },
   {
    "duration": 54,
    "start_time": "2025-04-26T13:48:34.942Z"
   },
   {
    "duration": 44,
    "start_time": "2025-04-26T13:53:19.710Z"
   },
   {
    "duration": 42,
    "start_time": "2025-04-26T13:53:26.616Z"
   },
   {
    "duration": 44,
    "start_time": "2025-04-26T14:03:21.172Z"
   },
   {
    "duration": 2492,
    "start_time": "2025-04-28T12:10:56.771Z"
   },
   {
    "duration": 139,
    "start_time": "2025-04-28T12:10:59.265Z"
   },
   {
    "duration": 9,
    "start_time": "2025-04-28T12:10:59.406Z"
   },
   {
    "duration": 27,
    "start_time": "2025-04-28T12:10:59.417Z"
   },
   {
    "duration": 9,
    "start_time": "2025-04-28T12:10:59.446Z"
   },
   {
    "duration": 48,
    "start_time": "2025-04-28T12:10:59.456Z"
   },
   {
    "duration": 117,
    "start_time": "2025-04-28T12:10:59.506Z"
   },
   {
    "duration": 67,
    "start_time": "2025-04-28T12:10:59.625Z"
   },
   {
    "duration": 15,
    "start_time": "2025-04-28T12:10:59.694Z"
   },
   {
    "duration": 46,
    "start_time": "2025-04-28T12:10:59.712Z"
   },
   {
    "duration": 10,
    "start_time": "2025-04-28T12:10:59.759Z"
   },
   {
    "duration": 22,
    "start_time": "2025-04-28T12:10:59.771Z"
   },
   {
    "duration": 27,
    "start_time": "2025-04-28T12:10:59.796Z"
   },
   {
    "duration": 57,
    "start_time": "2025-04-28T12:10:59.824Z"
   },
   {
    "duration": 318,
    "start_time": "2025-04-28T12:10:59.883Z"
   },
   {
    "duration": 107,
    "start_time": "2025-04-28T12:11:00.203Z"
   },
   {
    "duration": 59,
    "start_time": "2025-04-28T12:11:00.312Z"
   },
   {
    "duration": 40,
    "start_time": "2025-04-28T12:11:00.373Z"
   },
   {
    "duration": 54,
    "start_time": "2025-04-28T12:11:00.415Z"
   },
   {
    "duration": 117,
    "start_time": "2025-04-28T12:11:00.471Z"
   },
   {
    "duration": 12,
    "start_time": "2025-04-28T12:11:00.590Z"
   },
   {
    "duration": 8,
    "start_time": "2025-04-28T12:11:00.603Z"
   },
   {
    "duration": 40,
    "start_time": "2025-04-28T12:11:00.612Z"
   },
   {
    "duration": 26,
    "start_time": "2025-04-28T12:11:00.654Z"
   },
   {
    "duration": 157,
    "start_time": "2025-04-28T12:11:00.682Z"
   },
   {
    "duration": 3,
    "start_time": "2025-04-28T12:11:00.842Z"
   },
   {
    "duration": 6,
    "start_time": "2025-04-28T12:11:00.846Z"
   },
   {
    "duration": 7,
    "start_time": "2025-04-28T12:11:00.856Z"
   },
   {
    "duration": 8,
    "start_time": "2025-04-28T12:11:00.865Z"
   },
   {
    "duration": 3,
    "start_time": "2025-04-28T12:11:00.875Z"
   },
   {
    "duration": 5,
    "start_time": "2025-04-28T12:11:00.879Z"
   },
   {
    "duration": 79,
    "start_time": "2025-04-28T12:11:00.885Z"
   },
   {
    "duration": 98,
    "start_time": "2025-04-28T12:11:00.965Z"
   },
   {
    "duration": 46,
    "start_time": "2025-04-28T12:11:01.065Z"
   },
   {
    "duration": 50,
    "start_time": "2025-04-28T12:11:01.112Z"
   },
   {
    "duration": 16,
    "start_time": "2025-04-28T12:11:01.164Z"
   },
   {
    "duration": 9,
    "start_time": "2025-04-28T12:11:01.182Z"
   },
   {
    "duration": 13,
    "start_time": "2025-04-28T12:11:01.192Z"
   },
   {
    "duration": 82,
    "start_time": "2025-04-28T12:11:01.206Z"
   },
   {
    "duration": 627,
    "start_time": "2025-04-28T12:11:01.290Z"
   },
   {
    "duration": 7,
    "start_time": "2025-04-28T12:11:10.427Z"
   },
   {
    "duration": 45,
    "start_time": "2025-04-28T12:11:14.763Z"
   },
   {
    "duration": 60,
    "start_time": "2025-04-28T12:11:19.077Z"
   },
   {
    "duration": 4,
    "start_time": "2025-04-28T12:40:36.686Z"
   },
   {
    "duration": 9,
    "start_time": "2025-04-28T12:40:42.597Z"
   },
   {
    "duration": 7,
    "start_time": "2025-04-28T12:40:52.469Z"
   },
   {
    "duration": 13,
    "start_time": "2025-04-28T12:41:04.582Z"
   },
   {
    "duration": 13,
    "start_time": "2025-04-28T12:41:06.773Z"
   },
   {
    "duration": 4,
    "start_time": "2025-04-28T12:41:40.902Z"
   },
   {
    "duration": 6,
    "start_time": "2025-04-28T12:41:50.848Z"
   },
   {
    "duration": 3,
    "start_time": "2025-04-28T12:41:57.948Z"
   },
   {
    "duration": 15,
    "start_time": "2025-04-28T12:47:42.250Z"
   },
   {
    "duration": 458,
    "start_time": "2025-04-28T12:47:45.885Z"
   },
   {
    "duration": 12,
    "start_time": "2025-04-28T12:48:02.707Z"
   },
   {
    "duration": 6,
    "start_time": "2025-04-28T12:49:00.701Z"
   },
   {
    "duration": 3,
    "start_time": "2025-04-28T12:49:26.728Z"
   },
   {
    "duration": 35,
    "start_time": "2025-04-28T12:56:35.964Z"
   },
   {
    "duration": 38,
    "start_time": "2025-04-28T12:56:36.852Z"
   },
   {
    "duration": 38,
    "start_time": "2025-04-28T12:56:37.324Z"
   },
   {
    "duration": 37,
    "start_time": "2025-04-28T12:56:37.706Z"
   },
   {
    "duration": 37,
    "start_time": "2025-04-28T12:56:38.173Z"
   },
   {
    "duration": 45,
    "start_time": "2025-04-28T12:56:38.539Z"
   },
   {
    "duration": 36,
    "start_time": "2025-04-28T12:56:39.005Z"
   },
   {
    "duration": 36,
    "start_time": "2025-04-28T12:56:39.476Z"
   },
   {
    "duration": 36,
    "start_time": "2025-04-28T12:56:43.029Z"
   },
   {
    "duration": 40,
    "start_time": "2025-04-28T12:56:52.092Z"
   },
   {
    "duration": 6,
    "start_time": "2025-04-28T12:59:18.445Z"
   },
   {
    "duration": 5,
    "start_time": "2025-04-28T12:59:27.743Z"
   },
   {
    "duration": 4,
    "start_time": "2025-04-28T12:59:34.018Z"
   },
   {
    "duration": 4,
    "start_time": "2025-04-28T12:59:37.381Z"
   },
   {
    "duration": 27,
    "start_time": "2025-04-28T13:01:49.207Z"
   },
   {
    "duration": 16,
    "start_time": "2025-04-28T13:02:39.085Z"
   },
   {
    "duration": 4,
    "start_time": "2025-04-28T13:03:34.077Z"
   },
   {
    "duration": 156,
    "start_time": "2025-04-28T13:03:49.395Z"
   },
   {
    "duration": 19,
    "start_time": "2025-04-28T13:03:54.280Z"
   },
   {
    "duration": 17,
    "start_time": "2025-04-28T13:04:16.408Z"
   },
   {
    "duration": 452,
    "start_time": "2025-04-28T13:05:59.742Z"
   },
   {
    "duration": 656,
    "start_time": "2025-04-28T13:06:15.852Z"
   },
   {
    "duration": 13,
    "start_time": "2025-04-28T13:07:02.496Z"
   },
   {
    "duration": 2,
    "start_time": "2025-04-28T13:07:12.768Z"
   },
   {
    "duration": 827,
    "start_time": "2025-04-28T13:07:17.542Z"
   },
   {
    "duration": 104,
    "start_time": "2025-04-28T13:07:18.371Z"
   },
   {
    "duration": 10,
    "start_time": "2025-04-28T13:07:18.477Z"
   },
   {
    "duration": 16,
    "start_time": "2025-04-28T13:07:18.490Z"
   },
   {
    "duration": 7,
    "start_time": "2025-04-28T13:07:18.508Z"
   },
   {
    "duration": 72,
    "start_time": "2025-04-28T13:07:18.517Z"
   },
   {
    "duration": 119,
    "start_time": "2025-04-28T13:07:18.591Z"
   },
   {
    "duration": 62,
    "start_time": "2025-04-28T13:07:18.712Z"
   },
   {
    "duration": 19,
    "start_time": "2025-04-28T13:07:18.776Z"
   },
   {
    "duration": 52,
    "start_time": "2025-04-28T13:07:18.799Z"
   },
   {
    "duration": 9,
    "start_time": "2025-04-28T13:07:18.853Z"
   },
   {
    "duration": 23,
    "start_time": "2025-04-28T13:07:18.864Z"
   },
   {
    "duration": 30,
    "start_time": "2025-04-28T13:07:18.889Z"
   },
   {
    "duration": 69,
    "start_time": "2025-04-28T13:07:18.920Z"
   },
   {
    "duration": 311,
    "start_time": "2025-04-28T13:07:18.990Z"
   },
   {
    "duration": 110,
    "start_time": "2025-04-28T13:07:19.303Z"
   },
   {
    "duration": 60,
    "start_time": "2025-04-28T13:07:19.416Z"
   },
   {
    "duration": 41,
    "start_time": "2025-04-28T13:07:19.478Z"
   },
   {
    "duration": 59,
    "start_time": "2025-04-28T13:07:19.520Z"
   },
   {
    "duration": 131,
    "start_time": "2025-04-28T13:07:19.581Z"
   },
   {
    "duration": 11,
    "start_time": "2025-04-28T13:07:19.714Z"
   },
   {
    "duration": 23,
    "start_time": "2025-04-28T13:07:19.727Z"
   },
   {
    "duration": 25,
    "start_time": "2025-04-28T13:07:19.752Z"
   },
   {
    "duration": 29,
    "start_time": "2025-04-28T13:07:19.779Z"
   },
   {
    "duration": 247,
    "start_time": "2025-04-28T13:07:19.810Z"
   },
   {
    "duration": 4,
    "start_time": "2025-04-28T13:07:20.060Z"
   },
   {
    "duration": 6,
    "start_time": "2025-04-28T13:07:20.066Z"
   },
   {
    "duration": 9,
    "start_time": "2025-04-28T13:07:20.077Z"
   },
   {
    "duration": 8,
    "start_time": "2025-04-28T13:07:20.087Z"
   },
   {
    "duration": 3,
    "start_time": "2025-04-28T13:07:20.097Z"
   },
   {
    "duration": 4,
    "start_time": "2025-04-28T13:07:20.102Z"
   },
   {
    "duration": 81,
    "start_time": "2025-04-28T13:07:20.107Z"
   },
   {
    "duration": 114,
    "start_time": "2025-04-28T13:07:20.190Z"
   },
   {
    "duration": 63,
    "start_time": "2025-04-28T13:07:20.306Z"
   },
   {
    "duration": 40,
    "start_time": "2025-04-28T13:07:20.371Z"
   },
   {
    "duration": 12,
    "start_time": "2025-04-28T13:07:20.412Z"
   },
   {
    "duration": 25,
    "start_time": "2025-04-28T13:07:20.443Z"
   },
   {
    "duration": 7,
    "start_time": "2025-04-28T13:07:20.470Z"
   },
   {
    "duration": 12,
    "start_time": "2025-04-28T13:07:20.478Z"
   },
   {
    "duration": 14,
    "start_time": "2025-04-28T13:07:20.491Z"
   },
   {
    "duration": 38,
    "start_time": "2025-04-28T13:07:20.506Z"
   },
   {
    "duration": 4,
    "start_time": "2025-04-28T13:07:20.549Z"
   },
   {
    "duration": 235,
    "start_time": "2025-04-28T13:07:20.555Z"
   },
   {
    "duration": 21,
    "start_time": "2025-04-28T13:09:46.669Z"
   },
   {
    "duration": 20,
    "start_time": "2025-04-28T13:09:49.355Z"
   },
   {
    "duration": 29,
    "start_time": "2025-04-28T13:09:57.171Z"
   },
   {
    "duration": 20,
    "start_time": "2025-04-28T13:10:02.586Z"
   },
   {
    "duration": 21,
    "start_time": "2025-04-28T13:10:05.081Z"
   },
   {
    "duration": 20,
    "start_time": "2025-04-28T13:10:12.489Z"
   },
   {
    "duration": 7,
    "start_time": "2025-04-28T13:10:16.956Z"
   },
   {
    "duration": 12,
    "start_time": "2025-04-28T13:10:18.823Z"
   },
   {
    "duration": 14,
    "start_time": "2025-04-28T13:10:20.903Z"
   },
   {
    "duration": 11,
    "start_time": "2025-04-28T13:10:23.363Z"
   },
   {
    "duration": 14,
    "start_time": "2025-04-28T13:11:04.615Z"
   },
   {
    "duration": 14,
    "start_time": "2025-04-28T13:11:32.121Z"
   },
   {
    "duration": 375,
    "start_time": "2025-04-28T13:11:42.531Z"
   },
   {
    "duration": 14,
    "start_time": "2025-04-28T13:11:54.317Z"
   },
   {
    "duration": 5,
    "start_time": "2025-04-28T13:12:11.565Z"
   },
   {
    "duration": 15,
    "start_time": "2025-04-28T13:12:15.402Z"
   },
   {
    "duration": 17,
    "start_time": "2025-04-28T13:12:43.999Z"
   },
   {
    "duration": 13,
    "start_time": "2025-04-28T13:13:22.696Z"
   },
   {
    "duration": 17,
    "start_time": "2025-04-28T13:13:27.649Z"
   },
   {
    "duration": 14,
    "start_time": "2025-04-28T13:15:41.952Z"
   },
   {
    "duration": 28,
    "start_time": "2025-04-28T13:15:51.934Z"
   },
   {
    "duration": 37,
    "start_time": "2025-04-28T13:16:47.504Z"
   },
   {
    "duration": 28,
    "start_time": "2025-04-28T13:17:36.802Z"
   },
   {
    "duration": 30,
    "start_time": "2025-04-28T13:17:40.954Z"
   },
   {
    "duration": 27,
    "start_time": "2025-04-28T13:17:56.729Z"
   },
   {
    "duration": 5,
    "start_time": "2025-04-28T13:18:37.820Z"
   },
   {
    "duration": 5,
    "start_time": "2025-04-28T13:19:25.765Z"
   },
   {
    "duration": 5,
    "start_time": "2025-04-28T13:19:31.745Z"
   },
   {
    "duration": 5,
    "start_time": "2025-04-28T13:19:36.929Z"
   },
   {
    "duration": 5,
    "start_time": "2025-04-28T13:19:41.265Z"
   },
   {
    "duration": 5,
    "start_time": "2025-04-28T13:20:46.988Z"
   },
   {
    "duration": 6,
    "start_time": "2025-04-28T13:21:58.144Z"
   },
   {
    "duration": 58,
    "start_time": "2025-04-28T13:25:26.698Z"
   },
   {
    "duration": 7,
    "start_time": "2025-04-28T13:32:26.925Z"
   },
   {
    "duration": 4,
    "start_time": "2025-04-28T13:36:40.608Z"
   },
   {
    "duration": 4,
    "start_time": "2025-04-28T13:37:05.499Z"
   },
   {
    "duration": 4,
    "start_time": "2025-04-28T13:37:48.459Z"
   },
   {
    "duration": 13,
    "start_time": "2025-04-28T13:37:51.340Z"
   },
   {
    "duration": 13,
    "start_time": "2025-04-28T13:39:11.505Z"
   },
   {
    "duration": 19,
    "start_time": "2025-04-28T13:39:47.602Z"
   },
   {
    "duration": 21,
    "start_time": "2025-04-28T13:39:55.874Z"
   },
   {
    "duration": 22,
    "start_time": "2025-04-28T13:40:15.449Z"
   },
   {
    "duration": 22,
    "start_time": "2025-04-28T13:40:23.503Z"
   },
   {
    "duration": 6,
    "start_time": "2025-04-28T13:50:02.864Z"
   },
   {
    "duration": 4,
    "start_time": "2025-04-28T13:50:13.416Z"
   },
   {
    "duration": 3,
    "start_time": "2025-04-28T13:51:12.163Z"
   },
   {
    "duration": 37,
    "start_time": "2025-04-28T13:55:17.331Z"
   },
   {
    "duration": 40,
    "start_time": "2025-04-28T13:55:22.149Z"
   },
   {
    "duration": 447,
    "start_time": "2025-04-28T14:17:36.590Z"
   },
   {
    "duration": 6,
    "start_time": "2025-04-28T14:18:20.769Z"
   },
   {
    "duration": 44,
    "start_time": "2025-04-28T14:18:35.973Z"
   },
   {
    "duration": 28,
    "start_time": "2025-04-28T14:18:42.309Z"
   },
   {
    "duration": 27,
    "start_time": "2025-04-28T14:19:18.881Z"
   },
   {
    "duration": 26,
    "start_time": "2025-04-28T14:19:31.922Z"
   },
   {
    "duration": 4,
    "start_time": "2025-04-28T14:19:41.849Z"
   },
   {
    "duration": 5,
    "start_time": "2025-04-28T14:21:00.318Z"
   },
   {
    "duration": 6,
    "start_time": "2025-04-28T14:23:25.281Z"
   },
   {
    "duration": 6,
    "start_time": "2025-04-28T14:23:48.720Z"
   },
   {
    "duration": 221,
    "start_time": "2025-04-28T14:24:17.939Z"
   },
   {
    "duration": 212,
    "start_time": "2025-04-28T14:25:17.879Z"
   },
   {
    "duration": 215,
    "start_time": "2025-04-28T14:26:27.200Z"
   },
   {
    "duration": 208,
    "start_time": "2025-04-28T14:27:24.027Z"
   },
   {
    "duration": 7,
    "start_time": "2025-04-28T14:27:51.867Z"
   },
   {
    "duration": 6,
    "start_time": "2025-04-28T14:27:52.948Z"
   },
   {
    "duration": 5,
    "start_time": "2025-04-28T14:28:08.438Z"
   },
   {
    "duration": 221,
    "start_time": "2025-04-28T14:28:17.881Z"
   },
   {
    "duration": 158,
    "start_time": "2025-04-28T16:29:47.346Z"
   },
   {
    "duration": 2546,
    "start_time": "2025-04-28T16:29:56.821Z"
   },
   {
    "duration": 123,
    "start_time": "2025-04-28T16:29:59.369Z"
   },
   {
    "duration": 9,
    "start_time": "2025-04-28T16:29:59.493Z"
   },
   {
    "duration": 15,
    "start_time": "2025-04-28T16:29:59.505Z"
   },
   {
    "duration": 21,
    "start_time": "2025-04-28T16:29:59.522Z"
   },
   {
    "duration": 46,
    "start_time": "2025-04-28T16:29:59.545Z"
   },
   {
    "duration": 106,
    "start_time": "2025-04-28T16:29:59.593Z"
   },
   {
    "duration": 66,
    "start_time": "2025-04-28T16:29:59.701Z"
   },
   {
    "duration": 16,
    "start_time": "2025-04-28T16:29:59.768Z"
   },
   {
    "duration": 35,
    "start_time": "2025-04-28T16:29:59.787Z"
   },
   {
    "duration": 10,
    "start_time": "2025-04-28T16:29:59.843Z"
   },
   {
    "duration": 22,
    "start_time": "2025-04-28T16:29:59.855Z"
   },
   {
    "duration": 31,
    "start_time": "2025-04-28T16:29:59.880Z"
   },
   {
    "duration": 67,
    "start_time": "2025-04-28T16:29:59.914Z"
   },
   {
    "duration": 327,
    "start_time": "2025-04-28T16:29:59.983Z"
   },
   {
    "duration": 111,
    "start_time": "2025-04-28T16:30:00.312Z"
   },
   {
    "duration": 55,
    "start_time": "2025-04-28T16:30:00.425Z"
   },
   {
    "duration": 40,
    "start_time": "2025-04-28T16:30:00.481Z"
   },
   {
    "duration": 61,
    "start_time": "2025-04-28T16:30:00.523Z"
   },
   {
    "duration": 119,
    "start_time": "2025-04-28T16:30:00.586Z"
   },
   {
    "duration": 12,
    "start_time": "2025-04-28T16:30:00.706Z"
   },
   {
    "duration": 26,
    "start_time": "2025-04-28T16:30:00.720Z"
   },
   {
    "duration": 24,
    "start_time": "2025-04-28T16:30:00.748Z"
   },
   {
    "duration": 27,
    "start_time": "2025-04-28T16:30:00.774Z"
   },
   {
    "duration": 180,
    "start_time": "2025-04-28T16:30:00.802Z"
   },
   {
    "duration": 3,
    "start_time": "2025-04-28T16:30:00.983Z"
   },
   {
    "duration": 6,
    "start_time": "2025-04-28T16:30:00.988Z"
   },
   {
    "duration": 9,
    "start_time": "2025-04-28T16:30:00.999Z"
   },
   {
    "duration": 34,
    "start_time": "2025-04-28T16:30:01.010Z"
   },
   {
    "duration": 3,
    "start_time": "2025-04-28T16:30:01.046Z"
   },
   {
    "duration": 4,
    "start_time": "2025-04-28T16:30:01.051Z"
   },
   {
    "duration": 43,
    "start_time": "2025-04-28T16:30:01.056Z"
   },
   {
    "duration": 120,
    "start_time": "2025-04-28T16:30:01.100Z"
   },
   {
    "duration": 57,
    "start_time": "2025-04-28T16:30:01.222Z"
   },
   {
    "duration": 38,
    "start_time": "2025-04-28T16:30:01.281Z"
   },
   {
    "duration": 38,
    "start_time": "2025-04-28T16:30:01.321Z"
   },
   {
    "duration": 18,
    "start_time": "2025-04-28T16:30:01.361Z"
   },
   {
    "duration": 27,
    "start_time": "2025-04-28T16:30:01.380Z"
   },
   {
    "duration": 76,
    "start_time": "2025-04-28T16:30:01.409Z"
   },
   {
    "duration": 40,
    "start_time": "2025-04-28T16:30:01.487Z"
   },
   {
    "duration": 230,
    "start_time": "2025-04-28T16:30:01.542Z"
   },
   {
    "duration": 8,
    "start_time": "2025-04-28T16:30:01.774Z"
   },
   {
    "duration": 228,
    "start_time": "2025-04-28T16:30:01.785Z"
   },
   {
    "duration": 12,
    "start_time": "2025-04-28T16:30:10.439Z"
   },
   {
    "duration": 12,
    "start_time": "2025-04-28T16:30:11.248Z"
   },
   {
    "duration": 12,
    "start_time": "2025-04-28T16:30:11.754Z"
   },
   {
    "duration": 11,
    "start_time": "2025-04-28T16:30:12.257Z"
   },
   {
    "duration": 352,
    "start_time": "2025-04-28T16:30:39.650Z"
   },
   {
    "duration": 89,
    "start_time": "2025-04-28T16:30:52.845Z"
   },
   {
    "duration": 91,
    "start_time": "2025-04-28T16:31:03.548Z"
   },
   {
    "duration": 318,
    "start_time": "2025-04-28T16:31:12.358Z"
   },
   {
    "duration": 320,
    "start_time": "2025-04-28T16:32:10.219Z"
   },
   {
    "duration": 312,
    "start_time": "2025-04-28T16:32:13.184Z"
   }
  ],
  "kernelspec": {
   "display_name": "venvaa",
   "language": "python",
   "name": "python3"
  },
  "language_info": {
   "codemirror_mode": {
    "name": "ipython",
    "version": 3
   },
   "file_extension": ".py",
   "mimetype": "text/x-python",
   "name": "python",
   "nbconvert_exporter": "python",
   "pygments_lexer": "ipython3",
   "version": "3.12.3"
  },
  "toc": {
   "base_numbering": 1,
   "nav_menu": {},
   "number_sections": true,
   "sideBar": true,
   "skip_h1_title": true,
   "title_cell": "Table of Contents",
   "title_sidebar": "Contents",
   "toc_cell": false,
   "toc_position": {},
   "toc_section_display": true,
   "toc_window_display": false
  }
 },
 "nbformat": 4,
 "nbformat_minor": 2
}
